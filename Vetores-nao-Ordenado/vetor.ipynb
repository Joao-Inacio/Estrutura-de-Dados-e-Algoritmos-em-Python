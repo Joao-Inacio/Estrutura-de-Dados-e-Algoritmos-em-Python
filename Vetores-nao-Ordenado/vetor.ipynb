{
 "cells": [
  {
   "cell_type": "markdown",
   "metadata": {},
   "source": [
    "# **Vetor não Ordenado**"
   ]
  },
  {
   "cell_type": "code",
   "execution_count": 1,
   "metadata": {},
   "outputs": [],
   "source": [
    "# Libs\n",
    "import numpy as np"
   ]
  },
  {
   "cell_type": "code",
   "execution_count": 2,
   "metadata": {},
   "outputs": [],
   "source": [
    "# Classe para a Criação do vetor não ordenado\n",
    "class VetorNaoOrdenado:\n",
    "    def __init__(self, capacidade):\n",
    "        self.capacidade = capacidade\n",
    "        self.ultima_posicao = -1\n",
    "        self.valores = np.empty(self.capacidade, dtype=int)\n",
    "\n",
    "    def imprime(self): # O(n)\n",
    "        if self.ultima_posicao == -1:\n",
    "            print(\"O vetor está vazio\")\n",
    "        else:\n",
    "            for i in range(self.ultima_posicao + 1):\n",
    "                print(i, \" - \", self.valores[i])\n",
    "\n",
    "    def insere(self, valor): # O(1) - O(2)\n",
    "        if self.ultima_posicao == self.capacidade - 1:\n",
    "            print(\"Capacidade máxima atingida\")\n",
    "        else:\n",
    "            self.ultima_posicao += 1\n",
    "            self.valores[self.ultima_posicao] = valor\n",
    "\n",
    "    def pesquisar(self, valor): # O(n)\n",
    "        for i in range(self.ultima_posicao + 1):\n",
    "            if valor == self.valores[i]:\n",
    "                return i\n",
    "        return -1"
   ]
  },
  {
   "cell_type": "code",
   "execution_count": 3,
   "metadata": {},
   "outputs": [],
   "source": [
    "# Testando a classe \n",
    "vetor = VetorNaoOrdenado(5)"
   ]
  },
  {
   "cell_type": "code",
   "execution_count": 4,
   "metadata": {},
   "outputs": [
    {
     "name": "stdout",
     "output_type": "stream",
     "text": [
      "O vetor está vazio\n"
     ]
    }
   ],
   "source": [
    "# Imprimindo o vetor\n",
    "vetor.imprime()"
   ]
  },
  {
   "cell_type": "code",
   "execution_count": 5,
   "metadata": {},
   "outputs": [
    {
     "name": "stdout",
     "output_type": "stream",
     "text": [
      "0  -  2\n"
     ]
    }
   ],
   "source": [
    "# Testando o função de inserção no vetor\n",
    "vetor.insere(2)\n",
    "# Imprimindo o vetor\n",
    "vetor.imprime()"
   ]
  },
  {
   "cell_type": "code",
   "execution_count": 6,
   "metadata": {},
   "outputs": [],
   "source": [
    "# Inserindo Vários Valores\n",
    "vetor.insere(3)\n",
    "vetor.insere(5)\n",
    "vetor.insere(8)\n",
    "vetor.insere(1)"
   ]
  },
  {
   "cell_type": "code",
   "execution_count": 7,
   "metadata": {},
   "outputs": [
    {
     "name": "stdout",
     "output_type": "stream",
     "text": [
      "0  -  2\n",
      "1  -  3\n",
      "2  -  5\n",
      "3  -  8\n",
      "4  -  1\n"
     ]
    }
   ],
   "source": [
    "# Imprimindo o vetor\n",
    "vetor.imprime()"
   ]
  },
  {
   "cell_type": "code",
   "execution_count": 8,
   "metadata": {},
   "outputs": [
    {
     "name": "stdout",
     "output_type": "stream",
     "text": [
      "Capacidade máxima atingida\n"
     ]
    }
   ],
   "source": [
    "# Testando a Capacidade do vetor\n",
    "vetor.insere(1)"
   ]
  },
  {
   "cell_type": "code",
   "execution_count": 9,
   "metadata": {},
   "outputs": [
    {
     "data": {
      "text/plain": [
       "3"
      ]
     },
     "execution_count": 9,
     "metadata": {},
     "output_type": "execute_result"
    }
   ],
   "source": [
    "# Testando a função pesquisar\n",
    "vetor.pesquisar(8)"
   ]
  },
  {
   "cell_type": "code",
   "execution_count": 10,
   "metadata": {},
   "outputs": [
    {
     "data": {
      "text/plain": [
       "-1"
      ]
     },
     "execution_count": 10,
     "metadata": {},
     "output_type": "execute_result"
    }
   ],
   "source": [
    "# Testando com valor que não existe\n",
    "vetor.pesquisar(9)"
   ]
  }
 ],
 "metadata": {
  "kernelspec": {
   "display_name": "venv",
   "language": "python",
   "name": "python3"
  },
  "language_info": {
   "codemirror_mode": {
    "name": "ipython",
    "version": 3
   },
   "file_extension": ".py",
   "mimetype": "text/x-python",
   "name": "python",
   "nbconvert_exporter": "python",
   "pygments_lexer": "ipython3",
   "version": "3.11.6"
  }
 },
 "nbformat": 4,
 "nbformat_minor": 2
}
