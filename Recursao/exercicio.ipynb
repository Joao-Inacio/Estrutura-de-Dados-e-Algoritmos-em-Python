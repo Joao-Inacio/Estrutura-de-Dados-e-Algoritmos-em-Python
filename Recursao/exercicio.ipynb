{
 "cells": [
  {
   "cell_type": "markdown",
   "metadata": {},
   "source": [
    "1. O fatorial de um número inteiro m não negativo, é indicado por m! (lê-se \"m fatorial\") e é definido pela relação:\n",
    "\n",
    "m!=m⋅(m−1)⋅(m−2)⋅(m−3)...3⋅2⋅1, para m ≥ 2.\n",
    "\n",
    "Algumas definições são:\n",
    "\n",
    "- 1! = 1 (fatorial de 1) - critério de parada\n",
    "\n",
    "- 0! = 1 (fatorial de 0)\n",
    "\n",
    "Exemplos:\n",
    "\n",
    "- 3! = 3 . 2 . 1 = 6\n",
    "\n",
    "- 4! = 4 . 3 . 2 . 1 = 24\n",
    "\n",
    "- 6! = 6 . 5 . 4 . 3 . 2 . 1 = 720"
   ]
  },
  {
   "cell_type": "code",
   "execution_count": 1,
   "metadata": {},
   "outputs": [],
   "source": [
    "def fatorial(n):\n",
    "    if n == 0:\n",
    "        return 1\n",
    "    else:\n",
    "        return n * fatorial(n - 1)"
   ]
  },
  {
   "cell_type": "code",
   "execution_count": 2,
   "metadata": {},
   "outputs": [
    {
     "data": {
      "text/plain": [
       "720"
      ]
     },
     "execution_count": 2,
     "metadata": {},
     "output_type": "execute_result"
    }
   ],
   "source": [
    "fatorial(6)"
   ]
  },
  {
   "cell_type": "markdown",
   "metadata": {},
   "source": [
    "2. Crie uma função recursiva que calcule o valor de a (base) elevado a b (expoente)\n",
    "\n",
    "- Se o expoente for zero, a potência é igual 1 (critério de parada)\n",
    "\n",
    "- Não considere exponenciação de números negativos"
   ]
  },
  {
   "cell_type": "code",
   "execution_count": 3,
   "metadata": {},
   "outputs": [],
   "source": [
    "def baseElevada(b, e):\n",
    "    if e == 0:\n",
    "        return 1\n",
    "    else:\n",
    "        return b + baseElevada(b, e - 1)"
   ]
  },
  {
   "cell_type": "code",
   "execution_count": 4,
   "metadata": {},
   "outputs": [
    {
     "data": {
      "text/plain": [
       "7"
      ]
     },
     "execution_count": 4,
     "metadata": {},
     "output_type": "execute_result"
    }
   ],
   "source": [
    "baseElevada(2, 3)"
   ]
  }
 ],
 "metadata": {
  "kernelspec": {
   "display_name": "venv",
   "language": "python",
   "name": "python3"
  },
  "language_info": {
   "codemirror_mode": {
    "name": "ipython",
    "version": 3
   },
   "file_extension": ".py",
   "mimetype": "text/x-python",
   "name": "python",
   "nbconvert_exporter": "python",
   "pygments_lexer": "ipython3",
   "version": "3.11.7"
  }
 },
 "nbformat": 4,
 "nbformat_minor": 2
}
