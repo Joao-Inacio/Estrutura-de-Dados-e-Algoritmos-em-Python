{
 "cells": [
  {
   "cell_type": "markdown",
   "metadata": {},
   "source": [
    "# **Filas**"
   ]
  },
  {
   "cell_type": "code",
   "execution_count": 1,
   "metadata": {},
   "outputs": [],
   "source": [
    "# Importação\n",
    "import numpy as np"
   ]
  },
  {
   "cell_type": "code",
   "execution_count": 2,
   "metadata": {},
   "outputs": [],
   "source": [
    "# classe de Fila\n",
    "class FilaCircular:\n",
    "    def __init__(self, capacidade):\n",
    "        self.capacidade = capacidade\n",
    "        self.inicio = 0\n",
    "        self.final = -1\n",
    "        self.numero_elementos = 0\n",
    "        self.valores = np.empty(self.capacidade, dtype=int)\n",
    "\n",
    "    def __fila_vazia(self):\n",
    "        return self.numero_elementos == 0\n",
    "\n",
    "    def __fila_cheia(self):\n",
    "        return self.numero_elementos == self.capacidade\n",
    "\n",
    "    def enfileirar(self, valor):\n",
    "        if self.__fila_cheia():\n",
    "            print('A Fila está cheia')\n",
    "            return\n",
    "\n",
    "        if self.final == self.capacidade - 1:\n",
    "            self.final = -1\n",
    "        self.final += 1\n",
    "        self.valores[self.final] = valor\n",
    "        self.numero_elementos += 1\n",
    "\n",
    "    def desenfileirar(self):\n",
    "        if self.__fila_vazia():\n",
    "            print('A fila já está vazia')\n",
    "            return\n",
    "\n",
    "        temp = self.valores[self.inicio]\n",
    "        self.inicio += 1\n",
    "        if self.inicio == self.capacidade:\n",
    "            self.inicio = 0\n",
    "        self.numero_elementos -= 1\n",
    "        return temp\n",
    "\n",
    "    def primeiro(self):\n",
    "        if self.__fila_vazia():\n",
    "            return -1\n",
    "        return self.valores[self.inicio]"
   ]
  },
  {
   "cell_type": "code",
   "execution_count": 3,
   "metadata": {},
   "outputs": [],
   "source": [
    "# Criando a fila\n",
    "fila = FilaCircular(5)"
   ]
  },
  {
   "cell_type": "code",
   "execution_count": 4,
   "metadata": {},
   "outputs": [
    {
     "data": {
      "text/plain": [
       "-1"
      ]
     },
     "execution_count": 4,
     "metadata": {},
     "output_type": "execute_result"
    }
   ],
   "source": [
    "# vendo o primeiro elemento\n",
    "fila.primeiro()"
   ]
  },
  {
   "cell_type": "code",
   "execution_count": 5,
   "metadata": {},
   "outputs": [
    {
     "data": {
      "text/plain": [
       "1"
      ]
     },
     "execution_count": 5,
     "metadata": {},
     "output_type": "execute_result"
    }
   ],
   "source": [
    "# enfileirando um elemento\n",
    "fila.enfileirar(1)\n",
    "fila.primeiro()"
   ]
  },
  {
   "cell_type": "code",
   "execution_count": 6,
   "metadata": {},
   "outputs": [
    {
     "data": {
      "text/plain": [
       "1"
      ]
     },
     "execution_count": 6,
     "metadata": {},
     "output_type": "execute_result"
    }
   ],
   "source": [
    "# enfileirando um elemento\n",
    "fila.enfileirar(2)\n",
    "fila.primeiro()"
   ]
  },
  {
   "cell_type": "code",
   "execution_count": 7,
   "metadata": {},
   "outputs": [
    {
     "data": {
      "text/plain": [
       "1"
      ]
     },
     "execution_count": 7,
     "metadata": {},
     "output_type": "execute_result"
    }
   ],
   "source": [
    "# enfileirando um elemento\n",
    "fila.enfileirar(3)\n",
    "fila.enfileirar(4)\n",
    "fila.enfileirar(5)\n",
    "fila.primeiro()"
   ]
  },
  {
   "cell_type": "code",
   "execution_count": 8,
   "metadata": {},
   "outputs": [
    {
     "name": "stdout",
     "output_type": "stream",
     "text": [
      "A Fila está cheia\n"
     ]
    }
   ],
   "source": [
    "# enfileirando um elemento em uma fila cheia\n",
    "fila.enfileirar(2)"
   ]
  },
  {
   "cell_type": "code",
   "execution_count": 9,
   "metadata": {},
   "outputs": [
    {
     "data": {
      "text/plain": [
       "3"
      ]
     },
     "execution_count": 9,
     "metadata": {},
     "output_type": "execute_result"
    }
   ],
   "source": [
    "# desenfileirando um elemento em uma fila cheia\n",
    "fila.desenfileirar()\n",
    "fila.desenfileirar()\n",
    "fila.primeiro()"
   ]
  },
  {
   "cell_type": "code",
   "execution_count": 10,
   "metadata": {},
   "outputs": [
    {
     "data": {
      "text/plain": [
       "3"
      ]
     },
     "execution_count": 10,
     "metadata": {},
     "output_type": "execute_result"
    }
   ],
   "source": [
    "# enfileirando um elemento\n",
    "fila.enfileirar(6)\n",
    "fila.enfileirar(7)\n",
    "fila.primeiro()"
   ]
  }
 ],
 "metadata": {
  "kernelspec": {
   "display_name": "venv",
   "language": "python",
   "name": "python3"
  },
  "language_info": {
   "codemirror_mode": {
    "name": "ipython",
    "version": 3
   },
   "file_extension": ".py",
   "mimetype": "text/x-python",
   "name": "python",
   "nbconvert_exporter": "python",
   "pygments_lexer": "ipython3",
   "version": "3.11.6"
  }
 },
 "nbformat": 4,
 "nbformat_minor": 2
}
