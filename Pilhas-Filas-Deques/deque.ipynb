{
 "cells": [
  {
   "cell_type": "markdown",
   "metadata": {},
   "source": [
    "# **Deque**"
   ]
  },
  {
   "cell_type": "code",
   "execution_count": 1,
   "metadata": {},
   "outputs": [],
   "source": [
    "# Libs\n",
    "import numpy as np "
   ]
  },
  {
   "cell_type": "code",
   "execution_count": 2,
   "metadata": {},
   "outputs": [],
   "source": [
    "class Deque:\n",
    "\n",
    "    def __init__(self, capacidade):\n",
    "        self.capacidade = capacidade\n",
    "        self.inicio = -1\n",
    "        self.final = 0\n",
    "        self.numero_elementos = 0\n",
    "        self.valores = np.empty(self.capacidade, dtype=int)\n",
    "\n",
    "    def __deque_cheio(self):\n",
    "        return (self.inicio == 0 and self.final == self.capacidade - 1) or (self.inicio == self.final + 1)\n",
    "\n",
    "    def __deque_vazio(self):\n",
    "        return self.inicio == -1\n",
    "\n",
    "    def insere_inicio(self, valor):\n",
    "        if self.__deque_cheio():\n",
    "            print('O deque está cheio')\n",
    "            return\n",
    "\n",
    "        # Se estiver vazio\n",
    "        if self.inicio == -1:\n",
    "            self.inicio = 0\n",
    "            self.final = 0\n",
    "        # Início estiver na primeira posição\n",
    "        elif self.inicio == 0:\n",
    "            self.inicio = self.capacidade - 1\n",
    "        else:\n",
    "            self.inicio -= 1\n",
    "\n",
    "        self.valores[self.inicio] = valor\n",
    "\n",
    "    def insere_final(self, valor):\n",
    "        if self.__deque_cheio():\n",
    "            print('O deque está cheio')\n",
    "            return\n",
    "\n",
    "        # Se estiver vazio\n",
    "        if self.inicio == -1:\n",
    "            self.inicio = 0\n",
    "            self.final = 0\n",
    "        # Final estiver na última posição\n",
    "        elif self.final == self.capacidade - 1:\n",
    "            self.final = 0\n",
    "        else:\n",
    "            self.final += 1\n",
    "\n",
    "        self.valores[self.final] = valor\n",
    "\n",
    "    def excluir_inicio(self):\n",
    "        if self.__deque_vazio():\n",
    "            print('O deque já está vazio')\n",
    "            return\n",
    "\n",
    "        # Possui somente um elemento\n",
    "        if self.inicio == self.final:\n",
    "            self.inicio = -1\n",
    "            self.final = -1\n",
    "        else:\n",
    "            # Volta para a posição inicial\n",
    "            if self.inicio == self.capacidade - 1:\n",
    "                self.inicio = 0\n",
    "            else:\n",
    "                # Incrementar início para remover o início atual\n",
    "                self.inicio += 1\n",
    "\n",
    "    def excluir_final(self):\n",
    "        if self.__deque_vazio():\n",
    "            print('O deque já está vazio')\n",
    "            return\n",
    "\n",
    "        if self.inicio == self.final:\n",
    "            self.inicio = -1\n",
    "            self.final = -1\n",
    "        elif self.inicio == 0:\n",
    "            self.final = self.capacidade - 1\n",
    "        else:\n",
    "            self.final -= 1\n",
    "\n",
    "    def get_inicio(self):\n",
    "        if self.__deque_vazio():\n",
    "            print('O deque já está vazio')\n",
    "            return\n",
    "\n",
    "        return self.valores[self.inicio]\n",
    "\n",
    "    def get_final(self):\n",
    "        if self.__deque_vazio() or self.final < 0:\n",
    "            print('O deque já está vazio')\n",
    "            return\n",
    "\n",
    "        return self.valores[self.final]\n"
   ]
  },
  {
   "cell_type": "code",
   "execution_count": 3,
   "metadata": {},
   "outputs": [],
   "source": [
    "# Testando a classe\n",
    "deque = Deque(5)"
   ]
  },
  {
   "cell_type": "code",
   "execution_count": 4,
   "metadata": {},
   "outputs": [],
   "source": [
    "# Inserindo valor no final\n",
    "deque.insere_final(5)"
   ]
  },
  {
   "cell_type": "code",
   "execution_count": 5,
   "metadata": {},
   "outputs": [
    {
     "data": {
      "text/plain": [
       "(5, 5)"
      ]
     },
     "execution_count": 5,
     "metadata": {},
     "output_type": "execute_result"
    }
   ],
   "source": [
    "# Retornado valores\n",
    "deque.get_inicio(), deque.get_final()"
   ]
  },
  {
   "cell_type": "code",
   "execution_count": 6,
   "metadata": {},
   "outputs": [],
   "source": [
    "# Inserindo valor no final\n",
    "deque.insere_final(10)"
   ]
  },
  {
   "cell_type": "code",
   "execution_count": 7,
   "metadata": {},
   "outputs": [
    {
     "data": {
      "text/plain": [
       "(5, 10)"
      ]
     },
     "execution_count": 7,
     "metadata": {},
     "output_type": "execute_result"
    }
   ],
   "source": [
    "# Retornado valores\n",
    "deque.get_inicio(), deque.get_final()"
   ]
  },
  {
   "cell_type": "code",
   "execution_count": 8,
   "metadata": {},
   "outputs": [],
   "source": [
    "# Inserindo valor no Inicio\n",
    "deque.insere_inicio(3)"
   ]
  },
  {
   "cell_type": "code",
   "execution_count": 9,
   "metadata": {},
   "outputs": [
    {
     "data": {
      "text/plain": [
       "(3, 10)"
      ]
     },
     "execution_count": 9,
     "metadata": {},
     "output_type": "execute_result"
    }
   ],
   "source": [
    "# Retornado valores\n",
    "deque.get_inicio(), deque.get_final()"
   ]
  },
  {
   "cell_type": "code",
   "execution_count": 10,
   "metadata": {},
   "outputs": [],
   "source": [
    "# Inserindo valor no Inicio e Fim\n",
    "deque.insere_inicio(2)\n",
    "deque.insere_final(11)"
   ]
  },
  {
   "cell_type": "code",
   "execution_count": 11,
   "metadata": {},
   "outputs": [
    {
     "data": {
      "text/plain": [
       "(2, 11)"
      ]
     },
     "execution_count": 11,
     "metadata": {},
     "output_type": "execute_result"
    }
   ],
   "source": [
    "# Retornado valores\n",
    "deque.get_inicio(), deque.get_final()"
   ]
  },
  {
   "cell_type": "code",
   "execution_count": 12,
   "metadata": {},
   "outputs": [],
   "source": [
    "# Excluindo valores no inicio e final\n",
    "deque.excluir_inicio()\n",
    "deque.excluir_final()"
   ]
  },
  {
   "cell_type": "code",
   "execution_count": 13,
   "metadata": {},
   "outputs": [
    {
     "data": {
      "text/plain": [
       "(3, 10)"
      ]
     },
     "execution_count": 13,
     "metadata": {},
     "output_type": "execute_result"
    }
   ],
   "source": [
    "# Retornado valores\n",
    "deque.get_inicio(), deque.get_final()"
   ]
  }
 ],
 "metadata": {
  "kernelspec": {
   "display_name": "venv",
   "language": "python",
   "name": "python3"
  },
  "language_info": {
   "codemirror_mode": {
    "name": "ipython",
    "version": 3
   },
   "file_extension": ".py",
   "mimetype": "text/x-python",
   "name": "python",
   "nbconvert_exporter": "python",
   "pygments_lexer": "ipython3",
   "version": "3.11.6"
  }
 },
 "nbformat": 4,
 "nbformat_minor": 2
}
