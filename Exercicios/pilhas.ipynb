{
 "cells": [
  {
   "cell_type": "markdown",
   "metadata": {},
   "source": [
    "# **Exercício de Pilhas**"
   ]
  },
  {
   "cell_type": "markdown",
   "metadata": {},
   "source": [
    "- Testa: a{b(c[d]e)f}"
   ]
  },
  {
   "cell_type": "code",
   "execution_count": null,
   "metadata": {},
   "outputs": [],
   "source": [
    "# Importação\n",
    "import numpy as np"
   ]
  },
  {
   "cell_type": "code",
   "execution_count": null,
   "metadata": {},
   "outputs": [],
   "source": [
    "class Pilha:\n",
    "  def __init__(self, capacidade):\n",
    "    self.capacidade = capacidade\n",
    "    self.topo = -1\n",
    "    # Array de chars\n",
    "    self.valores = np.chararray(self.capacidade, unicode = True)\n",
    "\n",
    "  def __pilha_cheia(self):\n",
    "    if self.topo == self.capacidade - 1:\n",
    "      return True\n",
    "    else:\n",
    "      return False\n",
    "\n",
    "  # Mudança para método público\n",
    "  def pilha_vazia(self):\n",
    "    if self.topo == -1:\n",
    "      return True\n",
    "    else:\n",
    "      return False\n",
    "\n",
    "  def empilhar(self, valor):\n",
    "    if self.__pilha_cheia():\n",
    "      print('A pilha está cheia')\n",
    "    else:\n",
    "      self.topo += 1\n",
    "      self.valores[self.topo] = valor\n",
    "\n",
    "  # Retorno do valor desempilhado\n",
    "  def desempilhar(self):\n",
    "    if self.pilha_vazia():\n",
    "      print('A pilha está vazia')\n",
    "      return -1\n",
    "    else:\n",
    "      valor = self.valores[self.topo]\n",
    "      self.topo -= 1\n",
    "      return valor\n",
    "\n",
    "  def ver_topo(self):\n",
    "    if self.topo != -1:\n",
    "      return self.valores[self.topo]\n",
    "    else:\n",
    "      return -1"
   ]
  },
  {
   "cell_type": "code",
   "execution_count": null,
   "metadata": {},
   "outputs": [],
   "source": [
    "# Recebendo os dados\n",
    "expressao = str(input('Digite uma expressão: '))\n",
    "pilha = Pilha(len(expressao))"
   ]
  },
  {
   "cell_type": "code",
   "execution_count": null,
   "metadata": {},
   "outputs": [],
   "source": [
    "# Tesando a validação de expressão\n",
    "for i in range(len(expressao)):\n",
    "    ch = expressao[i]\n",
    "    if ch == '{' or ch == '[' or ch == '(':\n",
    "        pilha.empilhar(ch)\n",
    "    elif ch == '}' or ch == ']' or ch == ')':\n",
    "        if not pilha.pilha_vazia():\n",
    "            chx = str(pilha.desempilhar())\n",
    "            if (ch == '}' and chx != '{') or (ch == ']' and chx != '[') or (ch == ')' and chx != '('):\n",
    "                print('Erro: ', ch, ' na posição ', i)\n",
    "                break\n",
    "        else:\n",
    "            print('Erro: ', ch, ' na posição ', i)\n",
    "if not pilha.pilha_vazia():\n",
    "    print('Erro!')"
   ]
  }
 ],
 "metadata": {
  "kernelspec": {
   "display_name": "venv",
   "language": "python",
   "name": "python3"
  },
  "language_info": {
   "codemirror_mode": {
    "name": "ipython",
    "version": 3
   },
   "file_extension": ".py",
   "mimetype": "text/x-python",
   "name": "python",
   "nbconvert_exporter": "python",
   "pygments_lexer": "ipython3",
   "version": "3.11.6"
  }
 },
 "nbformat": 4,
 "nbformat_minor": 2
}
