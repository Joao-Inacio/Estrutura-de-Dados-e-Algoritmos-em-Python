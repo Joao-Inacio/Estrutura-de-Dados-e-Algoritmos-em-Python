{
 "cells": [
  {
   "cell_type": "markdown",
   "metadata": {},
   "source": [
    "# **Caminho mais curso com o Algoritmo de Dijkstra**"
   ]
  },
  {
   "cell_type": "markdown",
   "metadata": {},
   "source": [
    "## Estrutura do Grafo - Matriz de Adjacência"
   ]
  },
  {
   "cell_type": "code",
   "execution_count": 1,
   "metadata": {},
   "outputs": [],
   "source": [
    "# Importação\n",
    "import numpy as np"
   ]
  },
  {
   "cell_type": "code",
   "execution_count": 2,
   "metadata": {},
   "outputs": [],
   "source": [
    "# Criando os Vertices\n",
    "vertices = {\n",
    "    'arad': 0, 'zerind': 1, 'oradea': 2, 'sibiu': 3, 'timisoara': 4,\n",
    "    'lugoj': 5, 'mehadia': 6, 'dobreta': 7, 'craiova': 8, 'rimnicu': 9,\n",
    "    'fagaras': 10, 'pitesti': 11, 'bucharest': 12, 'giurgiu': 13\n",
    "}"
   ]
  },
  {
   "cell_type": "code",
   "execution_count": 3,
   "metadata": {},
   "outputs": [
    {
     "data": {
      "text/plain": [
       "(0, 11, 5)"
      ]
     },
     "execution_count": 3,
     "metadata": {},
     "output_type": "execute_result"
    }
   ],
   "source": [
    "# Visualizando o valores\n",
    "vertices['arad'], vertices['pitesti'], vertices['lugoj']"
   ]
  },
  {
   "cell_type": "code",
   "execution_count": 4,
   "metadata": {},
   "outputs": [
    {
     "data": {
      "text/plain": [
       "14"
      ]
     },
     "execution_count": 4,
     "metadata": {},
     "output_type": "execute_result"
    }
   ],
   "source": [
    "# Tamanho\n",
    "len(vertices)"
   ]
  },
  {
   "cell_type": "code",
   "execution_count": 5,
   "metadata": {},
   "outputs": [],
   "source": [
    "# Criando o dicionario de cidade\n",
    "cidades = {\n",
    "    0: 'arad', 1: 'zerind', 2: 'oradea', 3: 'sibiu', 4: 'timisoara',\n",
    "    5: 'lugoj', 6: 'mehadia', 7: 'dobreta', 8: 'craiova', 9: 'rimnicu',\n",
    "    10: 'fagaras', 11: 'pitesti', 12: 'bucharest', 13: 'giurgiu'\n",
    "}"
   ]
  },
  {
   "cell_type": "code",
   "execution_count": 6,
   "metadata": {},
   "outputs": [
    {
     "data": {
      "text/plain": [
       "('arad', 'bucharest')"
      ]
     },
     "execution_count": 6,
     "metadata": {},
     "output_type": "execute_result"
    }
   ],
   "source": [
    "# Visualizando\n",
    "cidades[0], cidades[12]"
   ]
  },
  {
   "cell_type": "code",
   "execution_count": 7,
   "metadata": {},
   "outputs": [],
   "source": [
    "# Criando as arestas\n",
    "arestas = np.zeros([len(cidades), len(cidades)], dtype=int)"
   ]
  },
  {
   "cell_type": "code",
   "execution_count": 8,
   "metadata": {},
   "outputs": [
    {
     "data": {
      "text/plain": [
       "(14, 14)"
      ]
     },
     "execution_count": 8,
     "metadata": {},
     "output_type": "execute_result"
    }
   ],
   "source": [
    "# Tamanho\n",
    "arestas.shape"
   ]
  },
  {
   "cell_type": "code",
   "execution_count": 9,
   "metadata": {},
   "outputs": [
    {
     "data": {
      "text/plain": [
       "array([[0, 0, 0, 0, 0, 0, 0, 0, 0, 0, 0, 0, 0, 0],\n",
       "       [0, 0, 0, 0, 0, 0, 0, 0, 0, 0, 0, 0, 0, 0],\n",
       "       [0, 0, 0, 0, 0, 0, 0, 0, 0, 0, 0, 0, 0, 0],\n",
       "       [0, 0, 0, 0, 0, 0, 0, 0, 0, 0, 0, 0, 0, 0],\n",
       "       [0, 0, 0, 0, 0, 0, 0, 0, 0, 0, 0, 0, 0, 0],\n",
       "       [0, 0, 0, 0, 0, 0, 0, 0, 0, 0, 0, 0, 0, 0],\n",
       "       [0, 0, 0, 0, 0, 0, 0, 0, 0, 0, 0, 0, 0, 0],\n",
       "       [0, 0, 0, 0, 0, 0, 0, 0, 0, 0, 0, 0, 0, 0],\n",
       "       [0, 0, 0, 0, 0, 0, 0, 0, 0, 0, 0, 0, 0, 0],\n",
       "       [0, 0, 0, 0, 0, 0, 0, 0, 0, 0, 0, 0, 0, 0],\n",
       "       [0, 0, 0, 0, 0, 0, 0, 0, 0, 0, 0, 0, 0, 0],\n",
       "       [0, 0, 0, 0, 0, 0, 0, 0, 0, 0, 0, 0, 0, 0],\n",
       "       [0, 0, 0, 0, 0, 0, 0, 0, 0, 0, 0, 0, 0, 0],\n",
       "       [0, 0, 0, 0, 0, 0, 0, 0, 0, 0, 0, 0, 0, 0]])"
      ]
     },
     "execution_count": 9,
     "metadata": {},
     "output_type": "execute_result"
    }
   ],
   "source": [
    "# Visualizando arestas\n",
    "arestas"
   ]
  },
  {
   "cell_type": "code",
   "execution_count": 10,
   "metadata": {},
   "outputs": [
    {
     "data": {
      "text/plain": [
       "(0, 1, 3, 4)"
      ]
     },
     "execution_count": 10,
     "metadata": {},
     "output_type": "execute_result"
    }
   ],
   "source": [
    "# A distancia\n",
    "vertices['arad'], vertices['zerind'], vertices['sibiu'], vertices['timisoara']"
   ]
  },
  {
   "cell_type": "code",
   "execution_count": 11,
   "metadata": {},
   "outputs": [],
   "source": [
    "# Adicionado a distancia ao vértice\n",
    "arestas[vertices['arad'], [vertices['zerind']]] = 75\n",
    "arestas[vertices['arad'], [vertices['sibiu']]] = 140\n",
    "arestas[vertices['arad'], [vertices['timisoara']]] = 118\n",
    "arestas[vertices['zerind'],[vertices['arad']]] = 75\n",
    "arestas[vertices['zerind'],[vertices['oradea']]] = 71\n",
    "\n",
    "arestas[vertices['oradea'],[vertices['zerind']]] = 71\n",
    "arestas[vertices['oradea'],[vertices['sibiu']]] = 151\n",
    "\n",
    "arestas[vertices['sibiu'],[vertices['oradea']]] = 151\n",
    "arestas[vertices['sibiu'],[vertices['arad']]] = 140\n",
    "arestas[vertices['sibiu'],[vertices['fagaras']]] = 99\n",
    "arestas[vertices['sibiu'],[vertices['rimnicu']]] = 80\n",
    "\n",
    "arestas[vertices['timisoara'],[vertices['arad']]] = 118\n",
    "arestas[vertices['timisoara'],[vertices['lugoj']]] = 111\n",
    "\n",
    "arestas[vertices['lugoj'],[vertices['timisoara']]] = 111\n",
    "arestas[vertices['lugoj'],[vertices['mehadia']]] = 70\n",
    "\n",
    "arestas[vertices['mehadia'],[vertices['lugoj']]] = 70\n",
    "arestas[vertices['mehadia'],[vertices['dobreta']]] = 75\n",
    "\n",
    "arestas[vertices['dobreta'],[vertices['mehadia']]] = 75\n",
    "arestas[vertices['dobreta'],[vertices['craiova']]] = 120\n",
    "\n",
    "arestas[vertices['craiova'],[vertices['dobreta']]] = 120\n",
    "arestas[vertices['craiova'],[vertices['pitesti']]] = 138\n",
    "arestas[vertices['craiova'],[vertices['rimnicu']]] = 146\n",
    "\n",
    "arestas[vertices['rimnicu'],[vertices['craiova']]] = 146\n",
    "arestas[vertices['rimnicu'],[vertices['sibiu']]] = 80\n",
    "arestas[vertices['rimnicu'],[vertices['pitesti']]] = 97\n",
    "\n",
    "arestas[vertices['fagaras'],[vertices['sibiu']]] = 99\n",
    "arestas[vertices['fagaras'],[vertices['bucharest']]] = 211\n",
    "\n",
    "arestas[vertices['pitesti'],[vertices['rimnicu']]] = 97\n",
    "arestas[vertices['pitesti'],[vertices['craiova']]] = 138\n",
    "arestas[vertices['pitesti'],[vertices['bucharest']]] = 101\n",
    "\n",
    "arestas[vertices['bucharest'],[vertices['fagaras']]] = 211\n",
    "arestas[vertices['bucharest'],[vertices['pitesti']]] = 101\n",
    "arestas[vertices['bucharest'],[vertices['giurgiu']]] = 90"
   ]
  },
  {
   "cell_type": "code",
   "execution_count": 12,
   "metadata": {},
   "outputs": [
    {
     "data": {
      "text/plain": [
       "array([[  0,  75,   0, 140, 118,   0,   0,   0,   0,   0,   0,   0,   0,\n",
       "          0],\n",
       "       [ 75,   0,  71,   0,   0,   0,   0,   0,   0,   0,   0,   0,   0,\n",
       "          0],\n",
       "       [  0,  71,   0, 151,   0,   0,   0,   0,   0,   0,   0,   0,   0,\n",
       "          0],\n",
       "       [140,   0, 151,   0,   0,   0,   0,   0,   0,  80,  99,   0,   0,\n",
       "          0],\n",
       "       [118,   0,   0,   0,   0, 111,   0,   0,   0,   0,   0,   0,   0,\n",
       "          0],\n",
       "       [  0,   0,   0,   0, 111,   0,  70,   0,   0,   0,   0,   0,   0,\n",
       "          0],\n",
       "       [  0,   0,   0,   0,   0,  70,   0,  75,   0,   0,   0,   0,   0,\n",
       "          0],\n",
       "       [  0,   0,   0,   0,   0,   0,  75,   0, 120,   0,   0,   0,   0,\n",
       "          0],\n",
       "       [  0,   0,   0,   0,   0,   0,   0, 120,   0, 146,   0, 138,   0,\n",
       "          0],\n",
       "       [  0,   0,   0,  80,   0,   0,   0,   0, 146,   0,   0,  97,   0,\n",
       "          0],\n",
       "       [  0,   0,   0,  99,   0,   0,   0,   0,   0,   0,   0,   0, 211,\n",
       "          0],\n",
       "       [  0,   0,   0,   0,   0,   0,   0,   0, 138,  97,   0,   0, 101,\n",
       "          0],\n",
       "       [  0,   0,   0,   0,   0,   0,   0,   0,   0,   0, 211, 101,   0,\n",
       "         90],\n",
       "       [  0,   0,   0,   0,   0,   0,   0,   0,   0,   0,   0,   0,   0,\n",
       "          0]])"
      ]
     },
     "execution_count": 12,
     "metadata": {},
     "output_type": "execute_result"
    }
   ],
   "source": [
    "# Visualizando as arestas\n",
    "arestas"
   ]
  },
  {
   "cell_type": "code",
   "execution_count": 13,
   "metadata": {},
   "outputs": [
    {
     "data": {
      "text/plain": [
       "array([97])"
      ]
     },
     "execution_count": 13,
     "metadata": {},
     "output_type": "execute_result"
    }
   ],
   "source": [
    "# A distancia\n",
    "arestas[vertices['pitesti'],[vertices['rimnicu']]]"
   ]
  },
  {
   "cell_type": "code",
   "execution_count": 14,
   "metadata": {},
   "outputs": [
    {
     "data": {
      "text/plain": [
       "array([140])"
      ]
     },
     "execution_count": 14,
     "metadata": {},
     "output_type": "execute_result"
    }
   ],
   "source": [
    "# Distancia\n",
    "arestas[vertices['arad'],[vertices['sibiu']]]"
   ]
  },
  {
   "cell_type": "markdown",
   "metadata": {},
   "source": [
    "## Algoritmo de Dijkstra"
   ]
  },
  {
   "cell_type": "code",
   "execution_count": 15,
   "metadata": {},
   "outputs": [],
   "source": [
    "# Crianção da Classe\n",
    "import sys\n",
    "class Dijkstra:\n",
    "    def __init__(self, vertices, arestas, inicio):\n",
    "        self.tamanho = len(vertices)\n",
    "        self.vertices = vertices\n",
    "        self.grafo = arestas\n",
    "        self.inicio = inicio\n",
    "\n",
    "    def mostra_solucao(self, distancias):\n",
    "        print(f'Menores distâncias de {self.vertices[self.inicio]} até todos os outros')\n",
    "        for vertice in range(self.tamanho):\n",
    "            print(self.vertices[vertice], distancias[vertice])\n",
    "\n",
    "    def distancia_minima(self, distancia, visitados):\n",
    "        minimo = sys.maxsize\n",
    "        for vertice in range(self.tamanho):\n",
    "            if distancia[vertice] < minimo and visitados[vertice] == False:\n",
    "                minimo = distancia[vertice]\n",
    "                indice_minimo = vertice\n",
    "        return indice_minimo\n",
    "\n",
    "    def dijkstra(self):\n",
    "        distancia = [sys.maxsize] * self.tamanho\n",
    "        distancia[self.inicio] = 0\n",
    "        visitados = [False] * self.tamanho\n",
    "\n",
    "        for _ in range(self.tamanho):\n",
    "            indice_minimo = self.distancia_minima(distancia, visitados)\n",
    "            visitados[indice_minimo] = True\n",
    "            for vertice in range(self.tamanho):\n",
    "                if self.grafo[indice_minimo][vertice] > 0 and visitados[vertice] == False \\\n",
    "                    and distancia[vertice] > distancia[indice_minimo] + self.grafo[indice_minimo][vertice]:\n",
    "                    distancia[vertice] = distancia[indice_minimo] + self.grafo[indice_minimo][vertice]\n",
    "\n",
    "        self.mostra_solucao(distancia)"
   ]
  },
  {
   "cell_type": "code",
   "execution_count": 16,
   "metadata": {},
   "outputs": [
    {
     "name": "stdout",
     "output_type": "stream",
     "text": [
      "Menores distâncias de arad até todos os outros\n",
      "arad 0\n",
      "zerind 75\n",
      "oradea 146\n",
      "sibiu 140\n",
      "timisoara 118\n",
      "lugoj 229\n",
      "mehadia 299\n",
      "dobreta 374\n",
      "craiova 366\n",
      "rimnicu 220\n",
      "fagaras 239\n",
      "pitesti 317\n",
      "bucharest 418\n",
      "giurgiu 508\n"
     ]
    }
   ],
   "source": [
    "# Testando a classe \n",
    "dijkstra = Dijkstra(cidades, arestas, vertices['arad'])\n",
    "dijkstra.dijkstra()"
   ]
  }
 ],
 "metadata": {
  "kernelspec": {
   "display_name": "venv",
   "language": "python",
   "name": "python3"
  },
  "language_info": {
   "codemirror_mode": {
    "name": "ipython",
    "version": 3
   },
   "file_extension": ".py",
   "mimetype": "text/x-python",
   "name": "python",
   "nbconvert_exporter": "python",
   "pygments_lexer": "ipython3",
   "version": "3.11.8"
  }
 },
 "nbformat": 4,
 "nbformat_minor": 2
}
