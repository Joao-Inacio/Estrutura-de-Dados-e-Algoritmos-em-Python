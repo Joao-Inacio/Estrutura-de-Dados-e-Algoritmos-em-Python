{
 "cells": [
  {
   "cell_type": "markdown",
   "metadata": {},
   "source": [
    "# **Grafo**"
   ]
  },
  {
   "cell_type": "code",
   "execution_count": 1,
   "metadata": {},
   "outputs": [],
   "source": [
    "# Criando o Vértice\n",
    "class Vertice:\n",
    "    def __init__(self, rotulo, distancia_objetivo):\n",
    "        self.rotulo = rotulo\n",
    "        self.visitado = False\n",
    "        self.distancia_objetivo = distancia_objetivo\n",
    "        self.adjacentes = []\n",
    "\n",
    "    def adiciona_adjacente(self, adjacente):\n",
    "        self.adjacentes.append(adjacente)\n",
    "\n",
    "    def mostra_adjacentes(self):\n",
    "        for i in self.adjacentes:\n",
    "            print(i.vertice.rotulo, i.custo)"
   ]
  },
  {
   "cell_type": "code",
   "execution_count": 2,
   "metadata": {},
   "outputs": [],
   "source": [
    "# Criando a Classe Adjacente\n",
    "class Adjacente:\n",
    "    def __init__(self, vertice, custo):\n",
    "        self.vertice = vertice\n",
    "        self.custo = custo"
   ]
  },
  {
   "cell_type": "code",
   "execution_count": 3,
   "metadata": {},
   "outputs": [],
   "source": [
    "# Classe de Grafo\n",
    "class Grafo:\n",
    "    arad = Vertice('Arad', 366)\n",
    "    zerind = Vertice('Zerind', 374)\n",
    "    oradea = Vertice('Oradea', 380)\n",
    "    sibiu = Vertice('Sibiu', 253)\n",
    "    timisoara = Vertice('Timisoara', 329)\n",
    "    lugoj = Vertice('Lugoj', 244)\n",
    "    mehadia = Vertice('Mehadia', 241)\n",
    "    dobreta = Vertice('Dobreta', 242)\n",
    "    craiova = Vertice('Craiova', 160)\n",
    "    rimnicu = Vertice('Rimnicu', 193)\n",
    "    fagaras = Vertice('Fagaras', 178)\n",
    "    pitesti = Vertice('Pitesti', 98)\n",
    "    bucharest = Vertice('Bucharest', 0)\n",
    "    giurgiu = Vertice('Giurgiu', 77)\n",
    "\n",
    "    arad.adiciona_adjacente(Adjacente(zerind, 75))\n",
    "    arad.adiciona_adjacente(Adjacente(sibiu, 140))\n",
    "    arad.adiciona_adjacente(Adjacente(timisoara, 118))\n",
    "\n",
    "    zerind.adiciona_adjacente(Adjacente(arad, 75))\n",
    "    zerind.adiciona_adjacente(Adjacente(oradea, 71))\n",
    "\n",
    "    oradea.adiciona_adjacente(Adjacente(zerind, 71))\n",
    "    oradea.adiciona_adjacente(Adjacente(sibiu, 151))\n",
    "\n",
    "    sibiu.adiciona_adjacente(Adjacente(oradea, 151))\n",
    "    sibiu.adiciona_adjacente(Adjacente(arad, 140))\n",
    "    sibiu.adiciona_adjacente(Adjacente(fagaras, 99))\n",
    "    sibiu.adiciona_adjacente(Adjacente(rimnicu, 80))\n",
    "\n",
    "    timisoara.adiciona_adjacente(Adjacente(arad, 118))\n",
    "    timisoara.adiciona_adjacente(Adjacente(lugoj, 111))\n",
    "\n",
    "    lugoj.adiciona_adjacente(Adjacente(timisoara, 111))\n",
    "    lugoj.adiciona_adjacente(Adjacente(mehadia, 70))\n",
    "\n",
    "    mehadia.adiciona_adjacente(Adjacente(lugoj, 70))\n",
    "    mehadia.adiciona_adjacente(Adjacente(dobreta, 75))\n",
    "\n",
    "    dobreta.adiciona_adjacente(Adjacente(mehadia, 75))\n",
    "    dobreta.adiciona_adjacente(Adjacente(craiova, 120))\n",
    "\n",
    "    craiova.adiciona_adjacente(Adjacente(dobreta, 120))\n",
    "    craiova.adiciona_adjacente(Adjacente(pitesti, 138))\n",
    "    craiova.adiciona_adjacente(Adjacente(rimnicu, 146))\n",
    "\n",
    "    rimnicu.adiciona_adjacente(Adjacente(craiova, 146))\n",
    "    rimnicu.adiciona_adjacente(Adjacente(sibiu, 80))\n",
    "    rimnicu.adiciona_adjacente(Adjacente(pitesti, 97))\n",
    "\n",
    "    fagaras.adiciona_adjacente(Adjacente(sibiu, 99))\n",
    "    fagaras.adiciona_adjacente(Adjacente(bucharest, 211))\n",
    "\n",
    "    pitesti.adiciona_adjacente(Adjacente(rimnicu, 97))\n",
    "    pitesti.adiciona_adjacente(Adjacente(craiova, 138))\n",
    "    pitesti.adiciona_adjacente(Adjacente(bucharest, 101))\n",
    "\n",
    "    bucharest.adiciona_adjacente(Adjacente(fagaras, 211))\n",
    "    bucharest.adiciona_adjacente(Adjacente(pitesti, 101))\n",
    "    bucharest.adiciona_adjacente(Adjacente(giurgiu, 90))"
   ]
  },
  {
   "cell_type": "markdown",
   "metadata": {},
   "source": [
    "## Vetro Ordenado"
   ]
  },
  {
   "cell_type": "code",
   "execution_count": 4,
   "metadata": {},
   "outputs": [],
   "source": [
    "# Importação da Libs\n",
    "import numpy as np\n",
    "class VetorOrdenado:\n",
    "    def __init__(self, capacidade):\n",
    "        self.capacidade = capacidade\n",
    "        self.ultima_posicao = -1\n",
    "        # Mudança no tipo de dados\n",
    "        self.valores = np.empty(self.capacidade, dtype=object)\n",
    "\n",
    "    # Referência para o vértice e comparação com a distância para o objetivo\n",
    "    def insere(self, vertice):\n",
    "        if self.ultima_posicao == self.capacidade - 1:\n",
    "            print('Capacidade máxima atingida')\n",
    "            return\n",
    "        posicao = 0\n",
    "        for i in range(self.ultima_posicao + 1):\n",
    "            posicao = i\n",
    "            if self.valores[i].distancia_objetivo > vertice.distancia_objetivo:\n",
    "                break\n",
    "            if i == self.ultima_posicao:\n",
    "                posicao = i + 1\n",
    "        x = self.ultima_posicao\n",
    "        while x >= posicao:\n",
    "            self.valores[x + 1] = self.valores[x]\n",
    "            x -= 1\n",
    "        self.valores[posicao] = vertice\n",
    "        self.ultima_posicao += 1\n",
    "\n",
    "    def imprime(self):\n",
    "        if self.ultima_posicao == -1:\n",
    "            print('O vetor está vazio')\n",
    "        else:\n",
    "            for i in range(self.ultima_posicao + 1):\n",
    "                print(f\"\"\"{i} - {self.valores[i].rotulo} - { self.valores[i].distancia_objetivo}\"\"\")"
   ]
  },
  {
   "cell_type": "code",
   "execution_count": 5,
   "metadata": {},
   "outputs": [],
   "source": [
    "# Criando o grafo()\n",
    "grafo = Grafo()"
   ]
  },
  {
   "cell_type": "code",
   "execution_count": 6,
   "metadata": {},
   "outputs": [],
   "source": [
    "# Testando o vetor\n",
    "vetor = VetorOrdenado(5)\n",
    "vetor.insere(grafo.arad)\n",
    "vetor.insere(grafo.craiova)\n",
    "vetor.insere(grafo.bucharest)\n",
    "vetor.insere(grafo.dobreta)"
   ]
  },
  {
   "cell_type": "code",
   "execution_count": 7,
   "metadata": {},
   "outputs": [
    {
     "name": "stdout",
     "output_type": "stream",
     "text": [
      "0 - Bucharest - 0\n",
      "1 - Craiova - 160\n",
      "2 - Dobreta - 242\n",
      "3 - Arad - 366\n"
     ]
    }
   ],
   "source": [
    "# Imprimindo\n",
    "vetor.imprime()"
   ]
  },
  {
   "cell_type": "code",
   "execution_count": 8,
   "metadata": {},
   "outputs": [
    {
     "name": "stdout",
     "output_type": "stream",
     "text": [
      "0 - Bucharest - 0\n",
      "1 - Craiova - 160\n",
      "2 - Dobreta - 242\n",
      "3 - Lugoj - 244\n",
      "4 - Arad - 366\n"
     ]
    }
   ],
   "source": [
    "# Inserindo um novo vetor\n",
    "vetor.insere(grafo.lugoj)\n",
    "vetor.imprime()"
   ]
  },
  {
   "cell_type": "code",
   "execution_count": 5,
   "metadata": {},
   "outputs": [
    {
     "name": "stdout",
     "output_type": "stream",
     "text": [
      "Zerind 75\n",
      "Sibiu 140\n",
      "Timisoara 118\n"
     ]
    }
   ],
   "source": [
    "# Visualizando adjacentes\n",
    "grafo.arad.mostra_adjacentes()"
   ]
  },
  {
   "cell_type": "markdown",
   "metadata": {},
   "source": [
    "## Pilha"
   ]
  },
  {
   "cell_type": "code",
   "execution_count": 6,
   "metadata": {},
   "outputs": [],
   "source": [
    "# Classe de Pilha\n",
    "import numpy as np\n",
    "\n",
    "\n",
    "class Pilha:\n",
    "    def __init__(self, capacidade):\n",
    "        self.__capacidade = capacidade\n",
    "        self.__topo = -1\n",
    "\n",
    "        # Mudança do tipo do array\n",
    "        self.__valores = np.empty(self.__capacidade, dtype=object)\n",
    "\n",
    "    def __pilha_cheia(self):\n",
    "        if self.__topo == self.__capacidade - 1:\n",
    "            return True\n",
    "        else:\n",
    "            return False\n",
    "\n",
    "    def __pilha_vazia(self):\n",
    "        if self.__topo == -1:\n",
    "            return True\n",
    "        else:\n",
    "            return False\n",
    "\n",
    "    def empilhar(self, valor):\n",
    "        if self.__pilha_cheia():\n",
    "            print('A pilha está cheia')\n",
    "        else:\n",
    "            self.__topo += 1\n",
    "            self.__valores[self.__topo] = valor\n",
    "\n",
    "    def desempilhar(self):\n",
    "        # Retorna o elemento desempilhado\n",
    "        if self.__pilha_vazia():\n",
    "            print('A pilha está vazia')\n",
    "            return None\n",
    "        else:\n",
    "            temp = self.__valores[self.__topo]\n",
    "            self.__topo -= 1\n",
    "            return temp\n",
    "\n",
    "    def ver_topo(self):\n",
    "        if self.__topo != -1:\n",
    "            return self.__valores[self.__topo]\n",
    "        else:\n",
    "            return -1"
   ]
  },
  {
   "cell_type": "code",
   "execution_count": 7,
   "metadata": {},
   "outputs": [],
   "source": [
    "# Criando a Pilha\n",
    "pilha = Pilha(5)\n",
    "pilha.empilhar(grafo.arad)\n",
    "pilha.empilhar(grafo.sibiu)\n",
    "pilha.empilhar(grafo.timisoara)"
   ]
  },
  {
   "cell_type": "code",
   "execution_count": 8,
   "metadata": {},
   "outputs": [
    {
     "data": {
      "text/plain": [
       "'Timisoara'"
      ]
     },
     "execution_count": 8,
     "metadata": {},
     "output_type": "execute_result"
    }
   ],
   "source": [
    "# Vendo o topo\n",
    "pilha.ver_topo().rotulo"
   ]
  },
  {
   "cell_type": "code",
   "execution_count": 9,
   "metadata": {},
   "outputs": [
    {
     "data": {
      "text/plain": [
       "'Sibiu'"
      ]
     },
     "execution_count": 9,
     "metadata": {},
     "output_type": "execute_result"
    }
   ],
   "source": [
    "# Desempilhando\n",
    "pilha.desempilhar()\n",
    "pilha.ver_topo().rotulo"
   ]
  },
  {
   "cell_type": "markdown",
   "metadata": {},
   "source": [
    "### Busca em Profundidade"
   ]
  },
  {
   "cell_type": "code",
   "execution_count": 10,
   "metadata": {},
   "outputs": [],
   "source": [
    "# Classe de Busca\n",
    "class BuscaProfundidade:\n",
    "    def __init__(self, inicio):\n",
    "        self.inicio = inicio\n",
    "        self.inicio.visitado = True\n",
    "        self.pilha = Pilha(20)\n",
    "        self.pilha.empilhar(inicio)\n",
    "\n",
    "    def buscar(self):\n",
    "        topo = self.pilha.ver_topo()\n",
    "        print(f'Topo: {topo.rotulo}')\n",
    "        for adjacente in topo.adjacentes:\n",
    "            print(f'Topo é {topo.rotulo}. {adjacente.vertice.rotulo} já foi visitada? {adjacente.vertice.visitado}')\n",
    "            if adjacente.vertice.visitado == False:\n",
    "                adjacente.vertice.visitado = True\n",
    "                self.pilha.empilhar(adjacente.vertice)\n",
    "                print(f'Empilhou {adjacente.vertice.rotulo}')\n",
    "                self.buscar()\n",
    "        print(f'Desempilhou: {self.pilha.desempilhar().rotulo}')\n",
    "        print()"
   ]
  },
  {
   "cell_type": "code",
   "execution_count": 11,
   "metadata": {},
   "outputs": [
    {
     "name": "stdout",
     "output_type": "stream",
     "text": [
      "Topo: Arad\n",
      "Topo é Arad. Zerind já foi visitada? False\n",
      "Empilhou Zerind\n",
      "Topo: Zerind\n",
      "Topo é Zerind. Arad já foi visitada? True\n",
      "Topo é Zerind. Oradea já foi visitada? False\n",
      "Empilhou Oradea\n",
      "Topo: Oradea\n",
      "Topo é Oradea. Zerind já foi visitada? True\n",
      "Topo é Oradea. Sibiu já foi visitada? False\n",
      "Empilhou Sibiu\n",
      "Topo: Sibiu\n",
      "Topo é Sibiu. Oradea já foi visitada? True\n",
      "Topo é Sibiu. Arad já foi visitada? True\n",
      "Topo é Sibiu. Fagaras já foi visitada? False\n",
      "Empilhou Fagaras\n",
      "Topo: Fagaras\n",
      "Topo é Fagaras. Sibiu já foi visitada? True\n",
      "Topo é Fagaras. Bucharest já foi visitada? False\n",
      "Empilhou Bucharest\n",
      "Topo: Bucharest\n",
      "Topo é Bucharest. Fagaras já foi visitada? True\n",
      "Topo é Bucharest. Pitesti já foi visitada? False\n",
      "Empilhou Pitesti\n",
      "Topo: Pitesti\n",
      "Topo é Pitesti. Rimnicu já foi visitada? False\n",
      "Empilhou Rimnicu\n",
      "Topo: Rimnicu\n",
      "Topo é Rimnicu. Craiova já foi visitada? False\n",
      "Empilhou Craiova\n",
      "Topo: Craiova\n",
      "Topo é Craiova. Dobreta já foi visitada? False\n",
      "Empilhou Dobreta\n",
      "Topo: Dobreta\n",
      "Topo é Dobreta. Mehadia já foi visitada? False\n",
      "Empilhou Mehadia\n",
      "Topo: Mehadia\n",
      "Topo é Mehadia. Lugoj já foi visitada? False\n",
      "Empilhou Lugoj\n",
      "Topo: Lugoj\n",
      "Topo é Lugoj. Timisoara já foi visitada? False\n",
      "Empilhou Timisoara\n",
      "Topo: Timisoara\n",
      "Topo é Timisoara. Arad já foi visitada? True\n",
      "Topo é Timisoara. Lugoj já foi visitada? True\n",
      "Desempilhou: Timisoara\n",
      "\n",
      "Topo é Lugoj. Mehadia já foi visitada? True\n",
      "Desempilhou: Lugoj\n",
      "\n",
      "Topo é Mehadia. Dobreta já foi visitada? True\n",
      "Desempilhou: Mehadia\n",
      "\n",
      "Topo é Dobreta. Craiova já foi visitada? True\n",
      "Desempilhou: Dobreta\n",
      "\n",
      "Topo é Craiova. Pitesti já foi visitada? True\n",
      "Topo é Craiova. Rimnicu já foi visitada? True\n",
      "Desempilhou: Craiova\n",
      "\n",
      "Topo é Rimnicu. Sibiu já foi visitada? True\n",
      "Topo é Rimnicu. Pitesti já foi visitada? True\n",
      "Desempilhou: Rimnicu\n",
      "\n",
      "Topo é Pitesti. Craiova já foi visitada? True\n",
      "Topo é Pitesti. Bucharest já foi visitada? True\n",
      "Desempilhou: Pitesti\n",
      "\n",
      "Topo é Bucharest. Giurgiu já foi visitada? False\n",
      "Empilhou Giurgiu\n",
      "Topo: Giurgiu\n",
      "Desempilhou: Giurgiu\n",
      "\n",
      "Desempilhou: Bucharest\n",
      "\n",
      "Desempilhou: Fagaras\n",
      "\n",
      "Topo é Sibiu. Rimnicu já foi visitada? True\n",
      "Desempilhou: Sibiu\n",
      "\n",
      "Desempilhou: Oradea\n",
      "\n",
      "Desempilhou: Zerind\n",
      "\n",
      "Topo é Arad. Sibiu já foi visitada? True\n",
      "Topo é Arad. Timisoara já foi visitada? True\n",
      "Desempilhou: Arad\n",
      "\n"
     ]
    }
   ],
   "source": [
    "# Testando a função de Busca\n",
    "busca_profundidade = BuscaProfundidade(grafo.arad)\n",
    "busca_profundidade.buscar()"
   ]
  },
  {
   "cell_type": "markdown",
   "metadata": {},
   "source": [
    "## Fila"
   ]
  },
  {
   "cell_type": "code",
   "execution_count": 12,
   "metadata": {},
   "outputs": [],
   "source": [
    "# Classe de fila\n",
    "import numpy as np\n",
    "\n",
    "\n",
    "class FilaCircular:\n",
    "    def __init__(self, capacidade):\n",
    "        self.capacidade = capacidade\n",
    "        self.inicio = 0\n",
    "        self.final = -1\n",
    "        self.numero_elementos = 0\n",
    "\n",
    "        # Mudança no tipo de dado\n",
    "        self.valores = np.empty(self.capacidade, dtype=object)\n",
    "\n",
    "    def __fila_vazia(self):\n",
    "        return self.numero_elementos == 0\n",
    "\n",
    "    def __fila_cheia(self):\n",
    "        return self.numero_elementos == self.capacidade\n",
    "\n",
    "    def enfileirar(self, valor):\n",
    "        if self.__fila_cheia():\n",
    "            print('A fila está cheia')\n",
    "            return\n",
    "\n",
    "        if self.final == self.capacidade - 1:\n",
    "            self.final = -1\n",
    "        self.final += 1\n",
    "        self.valores[self.final] = valor\n",
    "        self.numero_elementos += 1\n",
    "\n",
    "    def desenfileirar(self):\n",
    "        if self.__fila_vazia():\n",
    "            print('A fila já está vazia')\n",
    "            return\n",
    "\n",
    "        temp = self.valores[self.inicio]\n",
    "        self.inicio += 1\n",
    "        if self.inicio == self.capacidade - 1:\n",
    "            self.inicio = 0\n",
    "        self.numero_elementos -= 1\n",
    "        return temp\n",
    "\n",
    "    def primeiro(self):\n",
    "        if self.__fila_vazia():\n",
    "            return -1\n",
    "        return self.valores[self.inicio]\n"
   ]
  },
  {
   "cell_type": "code",
   "execution_count": 13,
   "metadata": {},
   "outputs": [],
   "source": [
    "# Testando a classe\n",
    "fila = FilaCircular(20)"
   ]
  },
  {
   "cell_type": "code",
   "execution_count": 14,
   "metadata": {},
   "outputs": [],
   "source": [
    "# Adicionando \n",
    "fila.enfileirar(grafo.arad)\n",
    "fila.enfileirar(grafo.bucharest)\n",
    "fila.enfileirar(grafo.fagaras)"
   ]
  },
  {
   "cell_type": "code",
   "execution_count": 15,
   "metadata": {},
   "outputs": [
    {
     "data": {
      "text/plain": [
       "'Arad'"
      ]
     },
     "execution_count": 15,
     "metadata": {},
     "output_type": "execute_result"
    }
   ],
   "source": [
    "# Visualizando o primeiro rotulo\n",
    "fila.primeiro().rotulo"
   ]
  },
  {
   "cell_type": "code",
   "execution_count": 16,
   "metadata": {},
   "outputs": [
    {
     "data": {
      "text/plain": [
       "'Arad'"
      ]
     },
     "execution_count": 16,
     "metadata": {},
     "output_type": "execute_result"
    }
   ],
   "source": [
    "# Desenfileirando\n",
    "fila.desenfileirar().rotulo"
   ]
  },
  {
   "cell_type": "code",
   "execution_count": 17,
   "metadata": {},
   "outputs": [
    {
     "data": {
      "text/plain": [
       "'Bucharest'"
      ]
     },
     "execution_count": 17,
     "metadata": {},
     "output_type": "execute_result"
    }
   ],
   "source": [
    "# Visualizando o primeiro rotulo\n",
    "fila.primeiro().rotulo"
   ]
  },
  {
   "cell_type": "markdown",
   "metadata": {},
   "source": [
    "## Busca em Largura"
   ]
  },
  {
   "cell_type": "code",
   "execution_count": 18,
   "metadata": {},
   "outputs": [],
   "source": [
    "# Criando a classe de busca em largura\n",
    "class BuscaLargura:\n",
    "    def __init__(self, inicio):\n",
    "        self.inicio = inicio\n",
    "        self.inicio.visitado = True\n",
    "        self.fila = FilaCircular(20)\n",
    "        self.fila.enfileirar(inicio)\n",
    "\n",
    "    def buscar(self):\n",
    "        primeiro = self.fila.primeiro()\n",
    "        print('--------')\n",
    "        print(f'Primeiro da fila: {primeiro.rotulo}')\n",
    "        temp = self.fila.desenfileirar()\n",
    "        print(f'Desenfileirou: {temp.rotulo}')\n",
    "        for adjacente in primeiro.adjacentes:\n",
    "            print(f'Primeiro era {temp.rotulo}. {adjacente.vertice.rotulo, adjacente.vertice.visitado}')\n",
    "            if adjacente.vertice.visitado == False:\n",
    "                adjacente.vertice.visitado = True\n",
    "                self.fila.enfileirar(adjacente.vertice)\n",
    "                print(f'Enfileirou {adjacente.vertice.rotulo}')\n",
    "        if self.fila.numero_elementos > 0:\n",
    "            self.buscar()\n"
   ]
  },
  {
   "cell_type": "code",
   "execution_count": 19,
   "metadata": {},
   "outputs": [
    {
     "name": "stdout",
     "output_type": "stream",
     "text": [
      "--------\n",
      "Primeiro da fila: Arad\n",
      "Desenfileirou: Arad\n",
      "Primeiro era Arad. ('Zerind', True)\n",
      "Primeiro era Arad. ('Sibiu', True)\n",
      "Primeiro era Arad. ('Timisoara', True)\n"
     ]
    }
   ],
   "source": [
    "# Testando a classe\n",
    "busca_largura = BuscaLargura(grafo.arad)\n",
    "busca_largura.buscar()"
   ]
  },
  {
   "cell_type": "code",
   "execution_count": 20,
   "metadata": {},
   "outputs": [
    {
     "data": {
      "text/plain": [
       "0"
      ]
     },
     "execution_count": 20,
     "metadata": {},
     "output_type": "execute_result"
    }
   ],
   "source": [
    "# Tamanho da fila\n",
    "busca_largura.fila.numero_elementos"
   ]
  },
  {
   "cell_type": "markdown",
   "metadata": {},
   "source": [
    "## Busca Gulosa"
   ]
  },
  {
   "cell_type": "code",
   "execution_count": 9,
   "metadata": {},
   "outputs": [],
   "source": [
    "# Classe de Busca Gulosa\n",
    "class Gulosa:\n",
    "    def __init__(self, objetivo):\n",
    "        self.objetivo = objetivo\n",
    "        self.encontrado = False\n",
    "\n",
    "    def buscar(self, atual):\n",
    "        print('---------')\n",
    "        print(f'Atual: {atual.rotulo}')\n",
    "        atual.visitado = True\n",
    "\n",
    "        if atual == self.objetivo:\n",
    "            self.encontrado = True\n",
    "        else:\n",
    "            vetor_ordenado = VetorOrdenado(len(atual.adjacentes))\n",
    "            for adjacente in atual.adjacentes:\n",
    "                if adjacente.vertice.visitado == False:\n",
    "                    adjacente.vertice.visitado == True\n",
    "                    vetor_ordenado.insere(adjacente.vertice)\n",
    "            vetor_ordenado.imprime()\n",
    "\n",
    "            if vetor_ordenado.valores[0] != None:\n",
    "                self.buscar(vetor_ordenado.valores[0])"
   ]
  },
  {
   "cell_type": "code",
   "execution_count": 10,
   "metadata": {},
   "outputs": [
    {
     "name": "stdout",
     "output_type": "stream",
     "text": [
      "---------\n",
      "Atual: Arad\n",
      "0 - Sibiu - 253\n",
      "1 - Timisoara - 329\n",
      "2 - Zerind - 374\n",
      "---------\n",
      "Atual: Sibiu\n",
      "0 - Fagaras - 178\n",
      "1 - Rimnicu - 193\n",
      "2 - Oradea - 380\n",
      "---------\n",
      "Atual: Fagaras\n",
      "0 - Bucharest - 0\n",
      "---------\n",
      "Atual: Bucharest\n"
     ]
    }
   ],
   "source": [
    "# Testando a classe \n",
    "busca_gulosa = Gulosa(grafo.bucharest)\n",
    "busca_gulosa.buscar(grafo.arad)"
   ]
  }
 ],
 "metadata": {
  "kernelspec": {
   "display_name": "Python 3.9.12 ('env')",
   "language": "python",
   "name": "python3"
  },
  "language_info": {
   "codemirror_mode": {
    "name": "ipython",
    "version": 3
   },
   "file_extension": ".py",
   "mimetype": "text/x-python",
   "name": "python",
   "nbconvert_exporter": "python",
   "pygments_lexer": "ipython3",
   "version": "3.11.8"
  },
  "orig_nbformat": 4,
  "vscode": {
   "interpreter": {
    "hash": "c5f6ce69dbdee32838ece07d9e8fd9729c7c568c3817f923ea5ea08e345fcd27"
   }
  }
 },
 "nbformat": 4,
 "nbformat_minor": 2
}
