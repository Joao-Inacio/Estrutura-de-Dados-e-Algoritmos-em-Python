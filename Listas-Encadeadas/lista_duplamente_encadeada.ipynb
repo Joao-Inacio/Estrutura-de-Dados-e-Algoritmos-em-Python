{
 "cells": [
  {
   "cell_type": "markdown",
   "metadata": {},
   "source": [
    "# **Lista Duplamente Encadeada**"
   ]
  },
  {
   "cell_type": "code",
   "execution_count": 1,
   "metadata": {},
   "outputs": [],
   "source": [
    "# Criando a classe Nó\n",
    "class No:\n",
    "    def __init__(self, valor):\n",
    "        self.valor = valor\n",
    "        self.proximo = None\n",
    "        self.anterior = None\n",
    "\n",
    "    def mostra_no(self):\n",
    "        print(self.valor)"
   ]
  },
  {
   "cell_type": "code",
   "execution_count": 2,
   "metadata": {},
   "outputs": [],
   "source": [
    "# Criando a classe Nó\n",
    "class ListaDuplamenteEncadeada:\n",
    "    def __init__(self):\n",
    "        self.primeiro = None\n",
    "        self.ultimo = None\n",
    "\n",
    "    def __lista_vazia(self):\n",
    "        return self. primeiro == None\n",
    "\n",
    "    def insere_inicio(self, valor):\n",
    "        novo = No(valor)\n",
    "        if self.__lista_vazia():\n",
    "            self.ultimo = novo\n",
    "        else:\n",
    "            self.primeiro.anterior = novo\n",
    "        novo.proximo = self.primeiro\n",
    "        self.primeiro = novo\n",
    "\n",
    "    def insere_final(self, valor):\n",
    "        novo = No(valor)\n",
    "        if self.__lista_vazia():\n",
    "            self.primeiro = novo\n",
    "        else:\n",
    "            self.ultimo.proximo = novo\n",
    "            novo.anterior = self.ultimo\n",
    "        self.ultimo = novo\n",
    "\n",
    "    def excluir_inicio(self):\n",
    "        temp = self.primeiro\n",
    "        if self.primeiro.proximo == None:\n",
    "            self.ultimo = None\n",
    "        else:\n",
    "            self.primeiro.proximo.anterior = None\n",
    "        self.primeiro = self.primeiro.proximo\n",
    "        return temp\n",
    "\n",
    "    def excluir_final(self):\n",
    "        temp = self.ultimo\n",
    "        if self.primeiro.proximo == None:\n",
    "            self.primeiro = None\n",
    "        else:\n",
    "            self.ultimo.anterior.proximo = None\n",
    "        self.ultimo = self.ultimo.anterior\n",
    "        return temp\n",
    "\n",
    "    def mostrar_frente(self):\n",
    "        atual = self.primeiro\n",
    "        while atual != None:\n",
    "            atual.mostra_no()\n",
    "            atual = atual.proximo\n",
    "\n",
    "    def mostrar_tras(self):\n",
    "        atual = self.ultimo\n",
    "        while atual != None:\n",
    "            atual.mostra_no()\n",
    "            atual = atual.anterior"
   ]
  },
  {
   "cell_type": "markdown",
   "metadata": {},
   "source": [
    "## Insere no Início"
   ]
  },
  {
   "cell_type": "code",
   "execution_count": 3,
   "metadata": {},
   "outputs": [],
   "source": [
    "# Estanciando a classe de lista\n",
    "lista = ListaDuplamenteEncadeada()"
   ]
  },
  {
   "cell_type": "code",
   "execution_count": 4,
   "metadata": {},
   "outputs": [
    {
     "name": "stdout",
     "output_type": "stream",
     "text": [
      "5\n",
      "4\n",
      "3\n",
      "2\n",
      "1\n"
     ]
    }
   ],
   "source": [
    "# Inserindo valores\n",
    "lista.insere_inicio(1)\n",
    "lista.insere_inicio(2)\n",
    "lista.insere_inicio(3)\n",
    "lista.insere_inicio(4)\n",
    "lista.insere_inicio(5)\n",
    "lista.mostrar_frente()"
   ]
  },
  {
   "cell_type": "code",
   "execution_count": 5,
   "metadata": {},
   "outputs": [
    {
     "data": {
      "text/plain": [
       "(<__main__.No at 0x256b12ece90>, <__main__.No at 0x256a1d81ed0>)"
      ]
     },
     "execution_count": 5,
     "metadata": {},
     "output_type": "execute_result"
    }
   ],
   "source": [
    "# visualizando os endereços de memória\n",
    "lista.primeiro, lista.ultimo"
   ]
  },
  {
   "cell_type": "code",
   "execution_count": 6,
   "metadata": {},
   "outputs": [
    {
     "data": {
      "text/plain": [
       "(5, 1)"
      ]
     },
     "execution_count": 6,
     "metadata": {},
     "output_type": "execute_result"
    }
   ],
   "source": [
    "# Visualizando o ultimo e o primeiro valor\n",
    "lista.primeiro.valor, lista.ultimo.valor"
   ]
  },
  {
   "cell_type": "code",
   "execution_count": 7,
   "metadata": {},
   "outputs": [
    {
     "name": "stdout",
     "output_type": "stream",
     "text": [
      "1\n",
      "2\n",
      "3\n",
      "4\n",
      "5\n"
     ]
    }
   ],
   "source": [
    "# Visualizando de trás para frente\n",
    "lista.mostrar_tras()"
   ]
  },
  {
   "cell_type": "markdown",
   "metadata": {},
   "source": [
    "## Insere no final"
   ]
  },
  {
   "cell_type": "code",
   "execution_count": 8,
   "metadata": {},
   "outputs": [],
   "source": [
    "# Estanciando a classe de lista\n",
    "lista = ListaDuplamenteEncadeada()\n",
    "# Inserindo valores\n",
    "lista.insere_inicio(1)\n",
    "lista.insere_inicio(2)\n",
    "lista.insere_final(3)\n",
    "lista.insere_final(4)"
   ]
  },
  {
   "cell_type": "code",
   "execution_count": 9,
   "metadata": {},
   "outputs": [
    {
     "name": "stdout",
     "output_type": "stream",
     "text": [
      "2\n",
      "1\n",
      "3\n",
      "4\n"
     ]
    }
   ],
   "source": [
    "# Visualizando \n",
    "lista.mostrar_frente()"
   ]
  },
  {
   "cell_type": "code",
   "execution_count": 10,
   "metadata": {},
   "outputs": [
    {
     "name": "stdout",
     "output_type": "stream",
     "text": [
      "4\n",
      "3\n",
      "1\n",
      "2\n"
     ]
    }
   ],
   "source": [
    "# Visualizando de trás para frente\n",
    "lista.mostrar_tras()"
   ]
  },
  {
   "cell_type": "markdown",
   "metadata": {},
   "source": [
    "## Excluir do início e do final"
   ]
  },
  {
   "cell_type": "code",
   "execution_count": 11,
   "metadata": {},
   "outputs": [],
   "source": [
    "# Estanciando a classe de lista\n",
    "lista = ListaDuplamenteEncadeada()\n",
    "# Inserindo valores\n",
    "lista.insere_inicio(1)\n",
    "lista.insere_inicio(2)\n",
    "lista.insere_inicio(3)\n",
    "lista.insere_inicio(4)\n",
    "lista.insere_inicio(5)"
   ]
  },
  {
   "cell_type": "code",
   "execution_count": 12,
   "metadata": {},
   "outputs": [
    {
     "name": "stdout",
     "output_type": "stream",
     "text": [
      "5\n",
      "4\n",
      "3\n",
      "2\n",
      "1\n"
     ]
    }
   ],
   "source": [
    "# Visualizando \n",
    "lista.mostrar_frente()"
   ]
  },
  {
   "cell_type": "code",
   "execution_count": 13,
   "metadata": {},
   "outputs": [
    {
     "name": "stdout",
     "output_type": "stream",
     "text": [
      "4\n",
      "3\n",
      "2\n",
      "1\n"
     ]
    }
   ],
   "source": [
    "# Excluindo do inicio\n",
    "lista.excluir_inicio()\n",
    "# Visualizando \n",
    "lista.mostrar_frente()"
   ]
  },
  {
   "cell_type": "code",
   "execution_count": 14,
   "metadata": {},
   "outputs": [
    {
     "name": "stdout",
     "output_type": "stream",
     "text": [
      "4\n",
      "3\n",
      "2\n"
     ]
    }
   ],
   "source": [
    "# Excluindo do final\n",
    "lista.excluir_final()\n",
    "# Visualizando \n",
    "lista.mostrar_frente()"
   ]
  },
  {
   "cell_type": "code",
   "execution_count": 15,
   "metadata": {},
   "outputs": [
    {
     "name": "stdout",
     "output_type": "stream",
     "text": [
      "2\n",
      "3\n",
      "4\n"
     ]
    }
   ],
   "source": [
    "# Visualizando de trás para frente\n",
    "lista.mostrar_tras()"
   ]
  }
 ],
 "metadata": {
  "kernelspec": {
   "display_name": "venv",
   "language": "python",
   "name": "python3"
  },
  "language_info": {
   "codemirror_mode": {
    "name": "ipython",
    "version": 3
   },
   "file_extension": ".py",
   "mimetype": "text/x-python",
   "name": "python",
   "nbconvert_exporter": "python",
   "pygments_lexer": "ipython3",
   "version": "3.11.7"
  }
 },
 "nbformat": 4,
 "nbformat_minor": 2
}
