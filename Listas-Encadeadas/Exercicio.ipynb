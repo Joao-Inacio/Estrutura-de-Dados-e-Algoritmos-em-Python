{
 "cells": [
  {
   "cell_type": "markdown",
   "metadata": {},
   "source": [
    "# **Exercício: pilha com lista encadeada**"
   ]
  },
  {
   "cell_type": "markdown",
   "metadata": {},
   "source": [
    "Baseado no conteúdo aprendido até agora, crie uma pilha utilizando listas encadeadas. Algumas dicas:\n",
    "\n",
    "- Use uma lista encadeada simples\n",
    "- Crie uma nova classe chamada PilhaListaEncadeada com os seguintes métodos:\n",
    "    - empilhar\n",
    "    - desempilhar\n",
    "    - pilha_vazia\n",
    "    - ver_topo\n",
    "- Os métodos acima devem ser executar as funções definidas anteriormente na lista encadeada"
   ]
  },
  {
   "cell_type": "code",
   "execution_count": 1,
   "metadata": {},
   "outputs": [],
   "source": [
    "# Class no\n",
    "class No:\n",
    "    def __init__(self, valor):\n",
    "        self.valor = valor\n",
    "        self.proximo = None"
   ]
  },
  {
   "cell_type": "code",
   "execution_count": 2,
   "metadata": {},
   "outputs": [],
   "source": [
    "# Classe de pilha e lista encadeada\n",
    "class PilhaListaEncadeada:\n",
    "    def __init__(self):\n",
    "        self.topo = None\n",
    "\n",
    "    def empilhar(self, valor):\n",
    "        novo_no = No(valor)\n",
    "        novo_no.proximo = self.topo\n",
    "        self.topo = novo_no\n",
    "\n",
    "    def desempilhar(self):\n",
    "        if self.pilha_vazia():\n",
    "            print(\"A pilha está vazia. Não é possível desempilhar.\")\n",
    "            return None\n",
    "        valor_topo = self.topo.valor\n",
    "        self.topo = self.topo.proximo\n",
    "        return valor_topo\n",
    "\n",
    "    def pilha_vazia(self):\n",
    "        return self.topo is None\n",
    "\n",
    "    def ver_topo(self):\n",
    "        if self.pilha_vazia():\n",
    "            print(\"A pilha está vazia.\")\n",
    "            return None\n",
    "        return self.topo.valor"
   ]
  },
  {
   "cell_type": "code",
   "execution_count": 3,
   "metadata": {},
   "outputs": [],
   "source": [
    "# Estanciando a classe\n",
    "pilha = PilhaListaEncadeada()"
   ]
  },
  {
   "cell_type": "code",
   "execution_count": 4,
   "metadata": {},
   "outputs": [],
   "source": [
    "# Empilhando\n",
    "pilha.empilhar(1)\n",
    "pilha.empilhar(2)\n",
    "pilha.empilhar(3)"
   ]
  },
  {
   "cell_type": "code",
   "execution_count": 5,
   "metadata": {},
   "outputs": [
    {
     "name": "stdout",
     "output_type": "stream",
     "text": [
      "Topo da pilha: 3\n"
     ]
    }
   ],
   "source": [
    "# Deve imprimir 3\n",
    "print(\"Topo da pilha:\", pilha.ver_topo())"
   ]
  },
  {
   "cell_type": "code",
   "execution_count": 6,
   "metadata": {},
   "outputs": [
    {
     "data": {
      "text/plain": [
       "3"
      ]
     },
     "execution_count": 6,
     "metadata": {},
     "output_type": "execute_result"
    }
   ],
   "source": [
    "# Desempilhando\n",
    "pilha.desempilhar()"
   ]
  },
  {
   "cell_type": "code",
   "execution_count": 7,
   "metadata": {},
   "outputs": [
    {
     "name": "stdout",
     "output_type": "stream",
     "text": [
      "Topo da pilha após desempilhar: 2\n"
     ]
    }
   ],
   "source": [
    "# Deve imprimir 2\n",
    "print(\"Topo da pilha após desempilhar:\", pilha.ver_topo())"
   ]
  }
 ],
 "metadata": {
  "kernelspec": {
   "display_name": "venv",
   "language": "python",
   "name": "python3"
  },
  "language_info": {
   "codemirror_mode": {
    "name": "ipython",
    "version": 3
   },
   "file_extension": ".py",
   "mimetype": "text/x-python",
   "name": "python",
   "nbconvert_exporter": "python",
   "pygments_lexer": "ipython3",
   "version": "3.11.7"
  }
 },
 "nbformat": 4,
 "nbformat_minor": 2
}
