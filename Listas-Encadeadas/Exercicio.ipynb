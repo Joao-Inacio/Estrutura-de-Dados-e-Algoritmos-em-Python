{
 "cells": [
  {
   "cell_type": "markdown",
   "metadata": {},
   "source": [
    "# **Exercício: pilha com lista encadeada**"
   ]
  },
  {
   "cell_type": "markdown",
   "metadata": {},
   "source": [
    "Baseado no conteúdo aprendido até agora, crie uma pilha utilizando listas encadeadas. Algumas dicas:\n",
    "\n",
    "- Use uma lista encadeada simples\n",
    "- Crie uma nova classe chamada PilhaListaEncadeada com os seguintes métodos:\n",
    "    - empilhar\n",
    "    - desempilhar\n",
    "    - pilha_vazia\n",
    "    - ver_topo\n",
    "- Os métodos acima devem ser executar as funções definidas anteriormente na lista encadeada"
   ]
  },
  {
   "cell_type": "code",
   "execution_count": 1,
   "metadata": {},
   "outputs": [],
   "source": [
    "# Class no\n",
    "class No:\n",
    "    def __init__(self, valor):\n",
    "        self.valor = valor\n",
    "        self.proximo = None"
   ]
  },
  {
   "cell_type": "code",
   "execution_count": 2,
   "metadata": {},
   "outputs": [],
   "source": [
    "# Classe de pilha e lista encadeada\n",
    "class PilhaListaEncadeada:\n",
    "    def __init__(self):\n",
    "        self.topo = None\n",
    "\n",
    "    def empilhar(self, valor):\n",
    "        novo_no = No(valor)\n",
    "        novo_no.proximo = self.topo\n",
    "        self.topo = novo_no\n",
    "\n",
    "    def desempilhar(self):\n",
    "        if self.pilha_vazia():\n",
    "            print(\"A pilha está vazia. Não é possível desempilhar.\")\n",
    "            return None\n",
    "        valor_topo = self.topo.valor\n",
    "        self.topo = self.topo.proximo\n",
    "        return valor_topo\n",
    "\n",
    "    def pilha_vazia(self):\n",
    "        return self.topo is None\n",
    "\n",
    "    def ver_topo(self):\n",
    "        if self.pilha_vazia():\n",
    "            print(\"A pilha está vazia.\")\n",
    "            return None\n",
    "        return self.topo.valor"
   ]
  },
  {
   "cell_type": "code",
   "execution_count": 3,
   "metadata": {},
   "outputs": [],
   "source": [
    "# Estanciando a classe\n",
    "pilha = PilhaListaEncadeada()"
   ]
  },
  {
   "cell_type": "code",
   "execution_count": 4,
   "metadata": {},
   "outputs": [],
   "source": [
    "# Empilhando\n",
    "pilha.empilhar(1)\n",
    "pilha.empilhar(2)\n",
    "pilha.empilhar(3)"
   ]
  },
  {
   "cell_type": "code",
   "execution_count": 5,
   "metadata": {},
   "outputs": [
    {
     "name": "stdout",
     "output_type": "stream",
     "text": [
      "Topo da pilha: 3\n"
     ]
    }
   ],
   "source": [
    "# Deve imprimir 3\n",
    "print(\"Topo da pilha:\", pilha.ver_topo())"
   ]
  },
  {
   "cell_type": "code",
   "execution_count": 6,
   "metadata": {},
   "outputs": [
    {
     "data": {
      "text/plain": [
       "3"
      ]
     },
     "execution_count": 6,
     "metadata": {},
     "output_type": "execute_result"
    }
   ],
   "source": [
    "# Desempilhando\n",
    "pilha.desempilhar()"
   ]
  },
  {
   "cell_type": "code",
   "execution_count": 7,
   "metadata": {},
   "outputs": [
    {
     "name": "stdout",
     "output_type": "stream",
     "text": [
      "Topo da pilha após desempilhar: 2\n"
     ]
    }
   ],
   "source": [
    "# Deve imprimir 2\n",
    "print(\"Topo da pilha após desempilhar:\", pilha.ver_topo())"
   ]
  },
  {
   "cell_type": "markdown",
   "metadata": {},
   "source": [
    "# **Exercício: fila com lista encadeada**"
   ]
  },
  {
   "cell_type": "markdown",
   "metadata": {},
   "source": [
    "- Baseado no conteúdo aprendido até agora, crie uma fila utilizando listas encadeadas. Algumas dicas:\n",
    "- Use uma lista encadeada com extremidades duplas para controlar o início e o final da fila\n",
    "- Crie uma nova classe chamada FilaListaEncadeada com os seguintes métodos:\n",
    "    - enfileirar\n",
    "    - desenfileirar\n",
    "    - fila_vazia\n",
    "    - ver_inicio\n",
    "- Os métodos acima devem ser executar as funções definidas anteriormente na lista encadeada com extremidades duplas"
   ]
  },
  {
   "cell_type": "code",
   "execution_count": 8,
   "metadata": {},
   "outputs": [],
   "source": [
    "# Classe no \n",
    "class No:\n",
    "    def __init__(self, valor):\n",
    "        self.valor = valor\n",
    "        self.proximo = None\n",
    "        self.anterior = None"
   ]
  },
  {
   "cell_type": "code",
   "execution_count": 9,
   "metadata": {},
   "outputs": [],
   "source": [
    "# Classe Fila e Lista\n",
    "class FilaListaEncadeada:\n",
    "    def __init__(self):\n",
    "        self.inicio = None\n",
    "        self.fim = None\n",
    "\n",
    "    def enfileirar(self, valor):\n",
    "        novo_no = No(valor)\n",
    "        if self.fila_vazia():\n",
    "            self.inicio = novo_no\n",
    "            self.fim = novo_no\n",
    "        else:\n",
    "            novo_no.anterior = self.fim\n",
    "            self.fim.proximo = novo_no\n",
    "            self.fim = novo_no\n",
    "\n",
    "    def desenfileirar(self):\n",
    "        if self.fila_vazia():\n",
    "            print(\"A fila está vazia. Não é possível desenfileirar.\")\n",
    "            return None\n",
    "\n",
    "        valor_inicio = self.inicio.valor\n",
    "        if self.inicio == self.fim:\n",
    "            self.inicio = None\n",
    "            self.fim = None\n",
    "        else:\n",
    "            self.inicio = self.inicio.proximo\n",
    "            self.inicio.anterior = None\n",
    "\n",
    "        return valor_inicio\n",
    "\n",
    "    def fila_vazia(self):\n",
    "        return self.inicio is None\n",
    "\n",
    "    def ver_inicio(self):\n",
    "        if self.fila_vazia():\n",
    "            print(\"A fila está vazia.\")\n",
    "            return None\n",
    "        return self.inicio.valor"
   ]
  },
  {
   "cell_type": "code",
   "execution_count": 10,
   "metadata": {},
   "outputs": [],
   "source": [
    "# Extasiando a classe \n",
    "fila = FilaListaEncadeada()"
   ]
  },
  {
   "cell_type": "code",
   "execution_count": 11,
   "metadata": {},
   "outputs": [],
   "source": [
    "# Empilhando\n",
    "fila.enfileirar(20)\n",
    "fila.enfileirar(40)"
   ]
  },
  {
   "cell_type": "code",
   "execution_count": 12,
   "metadata": {},
   "outputs": [
    {
     "data": {
      "text/plain": [
       "20"
      ]
     },
     "execution_count": 12,
     "metadata": {},
     "output_type": "execute_result"
    }
   ],
   "source": [
    "# Ver início\n",
    "fila.ver_inicio()"
   ]
  }
 ],
 "metadata": {
  "kernelspec": {
   "display_name": "venv",
   "language": "python",
   "name": "python3"
  },
  "language_info": {
   "codemirror_mode": {
    "name": "ipython",
    "version": 3
   },
   "file_extension": ".py",
   "mimetype": "text/x-python",
   "name": "python",
   "nbconvert_exporter": "python",
   "pygments_lexer": "ipython3",
   "version": "3.11.7"
  }
 },
 "nbformat": 4,
 "nbformat_minor": 2
}
