{
 "cells": [
  {
   "cell_type": "markdown",
   "metadata": {},
   "source": [
    "# **Algoritmos de Ordenação**"
   ]
  },
  {
   "cell_type": "code",
   "execution_count": 1,
   "metadata": {},
   "outputs": [],
   "source": [
    "# Importação\n",
    "import random\n",
    "import numpy as np"
   ]
  },
  {
   "cell_type": "markdown",
   "metadata": {},
   "source": [
    "## Bubble Sort"
   ]
  },
  {
   "cell_type": "code",
   "execution_count": 2,
   "metadata": {},
   "outputs": [],
   "source": [
    "# função do bubble sort\n",
    "def bubble_sort(vetor):\n",
    "    n = len(vetor)\n",
    "\n",
    "    for i in range(n):\n",
    "        for j in range(0, n - i - 1):\n",
    "            if vetor[j] > vetor[j + 1]:\n",
    "                temp = vetor[j]\n",
    "                vetor[j] = vetor[j + 1]\n",
    "                vetor[j + 1] = temp\n",
    "    return vetor"
   ]
  },
  {
   "cell_type": "code",
   "execution_count": 3,
   "metadata": {},
   "outputs": [
    {
     "data": {
      "text/plain": [
       "array([ 3,  8, 15, 34])"
      ]
     },
     "execution_count": 3,
     "metadata": {},
     "output_type": "execute_result"
    }
   ],
   "source": [
    "# Testando a função\n",
    "bubble_sort(np.array([15, 34, 8, 3]))"
   ]
  },
  {
   "cell_type": "code",
   "execution_count": null,
   "metadata": {},
   "outputs": [],
   "source": []
  },
  {
   "cell_type": "code",
   "execution_count": 4,
   "metadata": {},
   "outputs": [
    {
     "data": {
      "text/plain": [
       "array([ 1,  2,  3,  4,  5,  6,  7,  8,  9, 10])"
      ]
     },
     "execution_count": 4,
     "metadata": {},
     "output_type": "execute_result"
    }
   ],
   "source": [
    "# Testando a função\n",
    "bubble_sort(np.array([10, 9, 8, 7, 6, 5, 4, 3, 2, 1]))"
   ]
  },
  {
   "cell_type": "markdown",
   "metadata": {},
   "source": [
    "## Selection Sort"
   ]
  },
  {
   "cell_type": "code",
   "execution_count": 5,
   "metadata": {},
   "outputs": [],
   "source": [
    "# Função Selection Sort\n",
    "def selection_sort(vetor):\n",
    "    n = len(vetor)\n",
    "\n",
    "    for i in range(n):\n",
    "        id_minimo = i\n",
    "        for j in range(i + 1, n):\n",
    "            if vetor[id_minimo] > vetor[j]:\n",
    "                id_minimo = j\n",
    "        temp = vetor[i]\n",
    "        vetor[i] = vetor[id_minimo]\n",
    "        vetor[id_minimo] = temp\n",
    "    return vetor"
   ]
  },
  {
   "cell_type": "code",
   "execution_count": 6,
   "metadata": {},
   "outputs": [
    {
     "data": {
      "text/plain": [
       "array([ 3,  8, 15, 34])"
      ]
     },
     "execution_count": 6,
     "metadata": {},
     "output_type": "execute_result"
    }
   ],
   "source": [
    "# Testando a função\n",
    "selection_sort(np.array([15, 34, 8, 3]))"
   ]
  },
  {
   "cell_type": "code",
   "execution_count": 7,
   "metadata": {},
   "outputs": [
    {
     "data": {
      "text/plain": [
       "array([ 1,  2,  3,  4,  5,  6,  7,  8,  9, 10])"
      ]
     },
     "execution_count": 7,
     "metadata": {},
     "output_type": "execute_result"
    }
   ],
   "source": [
    "# Testando a função\n",
    "selection_sort(np.array([10, 9, 8, 7, 6, 5, 4, 3, 2, 1]))"
   ]
  },
  {
   "cell_type": "markdown",
   "metadata": {},
   "source": [
    "## Insertion Sort"
   ]
  },
  {
   "cell_type": "code",
   "execution_count": 8,
   "metadata": {},
   "outputs": [],
   "source": [
    "# função de insertion sort\n",
    "def insertion_sort(vetor):\n",
    "    n = len(vetor)\n",
    "\n",
    "    for i in range(1, n):\n",
    "        marcado = vetor[i]\n",
    "\n",
    "        j = i - 1\n",
    "        while j >= 0 and marcado < vetor[j]:\n",
    "            vetor[j + 1] = vetor[j]\n",
    "            j -= 1\n",
    "        vetor[j + 1] = marcado\n",
    "    return vetor"
   ]
  },
  {
   "cell_type": "code",
   "execution_count": 9,
   "metadata": {},
   "outputs": [
    {
     "data": {
      "text/plain": [
       "array([ 3,  8, 15, 34])"
      ]
     },
     "execution_count": 9,
     "metadata": {},
     "output_type": "execute_result"
    }
   ],
   "source": [
    "# Testando a função\n",
    "insertion_sort(np.array([15, 34, 8, 3]))"
   ]
  },
  {
   "cell_type": "code",
   "execution_count": 10,
   "metadata": {},
   "outputs": [
    {
     "data": {
      "text/plain": [
       "array([ 1,  2,  3,  4,  5,  6,  7,  8,  9, 10])"
      ]
     },
     "execution_count": 10,
     "metadata": {},
     "output_type": "execute_result"
    }
   ],
   "source": [
    "# Testando a função\n",
    "insertion_sort(np.array([10, 9, 8, 7, 6, 5, 4, 3, 2, 1]))"
   ]
  },
  {
   "cell_type": "markdown",
   "metadata": {},
   "source": [
    "## Shell Sort"
   ]
  },
  {
   "cell_type": "code",
   "execution_count": 11,
   "metadata": {},
   "outputs": [],
   "source": [
    "# Função de shell sort\n",
    "def shell_sort(vetor):\n",
    "    intervalo = len(vetor) // 2\n",
    "\n",
    "    while intervalo > 0:\n",
    "        for i in range(intervalo, len(vetor)):\n",
    "            temp = vetor[i]\n",
    "            j = i\n",
    "            while j >= intervalo and vetor[j - intervalo] > temp:\n",
    "                vetor[j] = vetor[j - intervalo]\n",
    "                j -= intervalo\n",
    "            vetor[j] = temp\n",
    "        intervalo //= 2\n",
    "    return vetor"
   ]
  },
  {
   "cell_type": "code",
   "execution_count": 12,
   "metadata": {},
   "outputs": [
    {
     "data": {
      "text/plain": [
       "array([1, 2, 3, 4, 5, 8])"
      ]
     },
     "execution_count": 12,
     "metadata": {},
     "output_type": "execute_result"
    }
   ],
   "source": [
    "# Testando a função\n",
    "shell_sort(np.array([8,5,1,4,2,3]))"
   ]
  },
  {
   "cell_type": "code",
   "execution_count": 13,
   "metadata": {},
   "outputs": [
    {
     "data": {
      "text/plain": [
       "array([ 3,  8, 15, 34])"
      ]
     },
     "execution_count": 13,
     "metadata": {},
     "output_type": "execute_result"
    }
   ],
   "source": [
    "# Testando a função\n",
    "shell_sort(np.array([15, 34, 8, 3]))"
   ]
  },
  {
   "cell_type": "code",
   "execution_count": 14,
   "metadata": {},
   "outputs": [
    {
     "data": {
      "text/plain": [
       "array([ 1,  2,  3,  4,  5,  6,  7,  8,  9, 10])"
      ]
     },
     "execution_count": 14,
     "metadata": {},
     "output_type": "execute_result"
    }
   ],
   "source": [
    "# Testando a função\n",
    "shell_sort(np.array([10, 9, 8, 7, 6, 5, 4, 3, 2, 1]))"
   ]
  },
  {
   "cell_type": "markdown",
   "metadata": {},
   "source": [
    "## Merge Sort"
   ]
  },
  {
   "cell_type": "code",
   "execution_count": 15,
   "metadata": {},
   "outputs": [],
   "source": [
    "# Função de Merge sort\n",
    "def merge_sort(vetor):\n",
    "    if len(vetor) > 1:\n",
    "        divisao = len(vetor) // 2\n",
    "        esquerda = vetor[:divisao].copy()\n",
    "        direita = vetor[divisao:].copy()\n",
    "\n",
    "        merge_sort(esquerda)\n",
    "        merge_sort(direita)\n",
    "\n",
    "        i = j = k = 0\n",
    "        # Ordena esquerda e direita\n",
    "        while i < len(esquerda) and j < len(direita):\n",
    "            if esquerda[i] < direita[j]:\n",
    "                vetor[k] = esquerda[i]\n",
    "                i += 1\n",
    "            else:\n",
    "                vetor[k] = direita[j]\n",
    "                j += 1\n",
    "            k +=1\n",
    "\n",
    "        while i < len(esquerda):\n",
    "            vetor[k] = esquerda[i]\n",
    "            i += 1\n",
    "            k += 1\n",
    "        while j < len(direita):\n",
    "            vetor[k] = direita[j]\n",
    "            j += 1\n",
    "            k += 1\n",
    "\n",
    "    return vetor"
   ]
  },
  {
   "cell_type": "code",
   "execution_count": 16,
   "metadata": {},
   "outputs": [
    {
     "data": {
      "text/plain": [
       "array([ 3,  8, 15, 34])"
      ]
     },
     "execution_count": 16,
     "metadata": {},
     "output_type": "execute_result"
    }
   ],
   "source": [
    "# Testando a função\n",
    "merge_sort(np.array([15, 34, 8, 3]))"
   ]
  },
  {
   "cell_type": "code",
   "execution_count": 17,
   "metadata": {},
   "outputs": [
    {
     "data": {
      "text/plain": [
       "array([ 1,  2,  3,  4,  5,  6,  7,  8,  9, 10])"
      ]
     },
     "execution_count": 17,
     "metadata": {},
     "output_type": "execute_result"
    }
   ],
   "source": [
    "# Testando a função\n",
    "merge_sort(np.array([10, 9, 8, 7, 6, 5, 4, 3, 2, 1]))"
   ]
  },
  {
   "cell_type": "markdown",
   "metadata": {},
   "source": [
    "## Quick Sort"
   ]
  },
  {
   "cell_type": "code",
   "execution_count": 18,
   "metadata": {},
   "outputs": [],
   "source": [
    "# Função de Partição\n",
    "def particao(vetor, inicio, final):\n",
    "    pivo = vetor[final]\n",
    "    i = inicio - 1\n",
    "\n",
    "    for j in range(inicio, final):\n",
    "        if vetor[j] <= pivo:\n",
    "            i += 1\n",
    "            vetor[i], vetor[j] = vetor[j], vetor[i]\n",
    "    vetor[i + 1], vetor[final] = vetor[final], vetor[i + 1]\n",
    "    return i + 1\n",
    "\n",
    "# Função Quick Sort\n",
    "def quick_sort(vetor, inicio, final):\n",
    "    if inicio < final:\n",
    "        posicao = particao(vetor, inicio, final)\n",
    "        # Esquerda\n",
    "        quick_sort(vetor, inicio, posicao - 1)\n",
    "        # Direito\n",
    "        quick_sort(vetor, posicao + 1, final)\n",
    "    return vetor"
   ]
  },
  {
   "cell_type": "code",
   "execution_count": 19,
   "metadata": {},
   "outputs": [
    {
     "data": {
      "text/plain": [
       "array([ 3,  8, 15, 34])"
      ]
     },
     "execution_count": 19,
     "metadata": {},
     "output_type": "execute_result"
    }
   ],
   "source": [
    "# Testando a função\n",
    "vetor = np.array([15, 34, 8, 3])\n",
    "quick_sort(vetor, 0, len(vetor) - 1)"
   ]
  },
  {
   "cell_type": "code",
   "execution_count": 20,
   "metadata": {},
   "outputs": [
    {
     "data": {
      "text/plain": [
       "array([ 1,  2,  3,  4,  5,  6,  7,  8,  9, 10])"
      ]
     },
     "execution_count": 20,
     "metadata": {},
     "output_type": "execute_result"
    }
   ],
   "source": [
    "# Testando a função\n",
    "vetor = np.array([10, 9, 8, 7, 6, 5, 4, 3, 2, 1])\n",
    "quick_sort(vetor, 0, len(vetor) - 1)"
   ]
  },
  {
   "cell_type": "markdown",
   "metadata": {},
   "source": [
    "## Exercício: comparativo entre algoritmos"
   ]
  },
  {
   "cell_type": "code",
   "execution_count": 21,
   "metadata": {},
   "outputs": [],
   "source": [
    "# Vetor\n",
    "vetor_float = np.random.rand(5000)"
   ]
  },
  {
   "cell_type": "code",
   "execution_count": 22,
   "metadata": {},
   "outputs": [
    {
     "data": {
      "text/plain": [
       "array([3.52544486e-05, 7.21966538e-05, 2.37689208e-04, ...,\n",
       "       9.98804157e-01, 9.98897800e-01, 9.99169756e-01])"
      ]
     },
     "execution_count": 22,
     "metadata": {},
     "output_type": "execute_result"
    }
   ],
   "source": [
    "# Testando a função\n",
    "bubble_sort(vetor_float.copy())"
   ]
  },
  {
   "cell_type": "code",
   "execution_count": 23,
   "metadata": {},
   "outputs": [
    {
     "name": "stdout",
     "output_type": "stream",
     "text": [
      "5.73 s ± 679 ms per loop (mean ± std. dev. of 7 runs, 1 loop each)\n"
     ]
    }
   ],
   "source": [
    "# Tempo\n",
    "%timeit bubble_sort(vetor_float.copy())"
   ]
  },
  {
   "cell_type": "code",
   "execution_count": 24,
   "metadata": {},
   "outputs": [
    {
     "data": {
      "text/plain": [
       "array([3.52544486e-05, 7.21966538e-05, 2.37689208e-04, ...,\n",
       "       9.98804157e-01, 9.98897800e-01, 9.99169756e-01])"
      ]
     },
     "execution_count": 24,
     "metadata": {},
     "output_type": "execute_result"
    }
   ],
   "source": [
    "# Testando a função\n",
    "selection_sort(vetor_float.copy())"
   ]
  },
  {
   "cell_type": "code",
   "execution_count": 25,
   "metadata": {},
   "outputs": [
    {
     "name": "stdout",
     "output_type": "stream",
     "text": [
      "3.18 s ± 71.1 ms per loop (mean ± std. dev. of 7 runs, 1 loop each)\n"
     ]
    }
   ],
   "source": [
    "# Tempo\n",
    "%timeit selection_sort(vetor_float.copy())"
   ]
  },
  {
   "cell_type": "code",
   "execution_count": 26,
   "metadata": {},
   "outputs": [
    {
     "data": {
      "text/plain": [
       "array([3.52544486e-05, 7.21966538e-05, 2.37689208e-04, ...,\n",
       "       9.98804157e-01, 9.98897800e-01, 9.99169756e-01])"
      ]
     },
     "execution_count": 26,
     "metadata": {},
     "output_type": "execute_result"
    }
   ],
   "source": [
    "# Testando a função\n",
    "insertion_sort(vetor_float.copy())"
   ]
  },
  {
   "cell_type": "code",
   "execution_count": 27,
   "metadata": {},
   "outputs": [
    {
     "name": "stdout",
     "output_type": "stream",
     "text": [
      "2.45 s ± 75 ms per loop (mean ± std. dev. of 7 runs, 1 loop each)\n"
     ]
    }
   ],
   "source": [
    "# Tempo\n",
    "%timeit insertion_sort(vetor_float.copy())"
   ]
  },
  {
   "cell_type": "code",
   "execution_count": 28,
   "metadata": {},
   "outputs": [
    {
     "data": {
      "text/plain": [
       "array([3.52544486e-05, 7.21966538e-05, 2.37689208e-04, ...,\n",
       "       9.98804157e-01, 9.98897800e-01, 9.99169756e-01])"
      ]
     },
     "execution_count": 28,
     "metadata": {},
     "output_type": "execute_result"
    }
   ],
   "source": [
    "# Testando a função\n",
    "shell_sort(vetor_float.copy())"
   ]
  },
  {
   "cell_type": "code",
   "execution_count": 29,
   "metadata": {},
   "outputs": [
    {
     "name": "stdout",
     "output_type": "stream",
     "text": [
      "51.1 ms ± 3.21 ms per loop (mean ± std. dev. of 7 runs, 10 loops each)\n"
     ]
    }
   ],
   "source": [
    "# Tempo\n",
    "%timeit shell_sort(vetor_float.copy())"
   ]
  },
  {
   "cell_type": "code",
   "execution_count": 30,
   "metadata": {},
   "outputs": [
    {
     "data": {
      "text/plain": [
       "array([3.52544486e-05, 7.21966538e-05, 2.37689208e-04, ...,\n",
       "       9.98804157e-01, 9.98897800e-01, 9.99169756e-01])"
      ]
     },
     "execution_count": 30,
     "metadata": {},
     "output_type": "execute_result"
    }
   ],
   "source": [
    "# Testando a função\n",
    "merge_sort(vetor_float.copy())"
   ]
  },
  {
   "cell_type": "code",
   "execution_count": 31,
   "metadata": {},
   "outputs": [
    {
     "name": "stdout",
     "output_type": "stream",
     "text": [
      "45.2 ms ± 1.2 ms per loop (mean ± std. dev. of 7 runs, 10 loops each)\n"
     ]
    }
   ],
   "source": [
    "# Tempo\n",
    "%timeit merge_sort(vetor_float.copy())"
   ]
  },
  {
   "cell_type": "code",
   "execution_count": 32,
   "metadata": {},
   "outputs": [
    {
     "data": {
      "text/plain": [
       "array([0.16009814, 0.25323311, 0.29501065, ..., 0.79709902, 0.65484547,\n",
       "       0.22537607])"
      ]
     },
     "execution_count": 32,
     "metadata": {},
     "output_type": "execute_result"
    }
   ],
   "source": [
    "# Testando a função\n",
    "quick_sort(vetor_float.copy(), 0, len(vetor) - 1)"
   ]
  },
  {
   "cell_type": "code",
   "execution_count": 33,
   "metadata": {},
   "outputs": [
    {
     "name": "stdout",
     "output_type": "stream",
     "text": [
      "19.2 µs ± 2.68 µs per loop (mean ± std. dev. of 7 runs, 100,000 loops each)\n"
     ]
    }
   ],
   "source": [
    "# Tempo\n",
    "%timeit quick_sort(vetor_float.copy(), 0, len(vetor) - 1)"
   ]
  }
 ],
 "metadata": {
  "kernelspec": {
   "display_name": "venv",
   "language": "python",
   "name": "python3"
  },
  "language_info": {
   "codemirror_mode": {
    "name": "ipython",
    "version": 3
   },
   "file_extension": ".py",
   "mimetype": "text/x-python",
   "name": "python",
   "nbconvert_exporter": "python",
   "pygments_lexer": "ipython3",
   "version": "3.11.7"
  }
 },
 "nbformat": 4,
 "nbformat_minor": 2
}
