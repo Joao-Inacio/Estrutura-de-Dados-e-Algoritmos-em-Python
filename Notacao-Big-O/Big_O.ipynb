{
 "cells": [
  {
   "cell_type": "markdown",
   "metadata": {},
   "source": [
    "# **Notação Big-O**"
   ]
  },
  {
   "cell_type": "markdown",
   "metadata": {},
   "source": [
    "- Como comparar dois algoritmos?\n",
    "- Comparação objetiva entre algoritmos\n",
    "- Considera diferenças entre poder de processamento, sistema operacional, linguagem de programação\n",
    "- O quanto a \"complexidade\" do algoritmo aumenta de acordo com as entradas"
   ]
  },
  {
   "cell_type": "markdown",
   "metadata": {},
   "source": [
    "## Função 1 - O(n)"
   ]
  },
  {
   "cell_type": "code",
   "execution_count": 1,
   "metadata": {},
   "outputs": [],
   "source": [
    "# Função de soma\n",
    "# Recebe um número inteiro n e retorna a soma dos números de 0 até n.\n",
    "# Números de passos seria n até n + 1\n",
    "# Exemplo: n = 1000 o número de passos seria 0 até 1001\n",
    "def soma1(n):\n",
    "    soma = 0\n",
    "    for i in range(n+1):\n",
    "        soma += i\n",
    "    return soma"
   ]
  },
  {
   "cell_type": "code",
   "execution_count": 2,
   "metadata": {},
   "outputs": [
    {
     "data": {
      "text/plain": [
       "55"
      ]
     },
     "execution_count": 2,
     "metadata": {},
     "output_type": "execute_result"
    }
   ],
   "source": [
    "# Testando a função\n",
    "soma1(10)"
   ]
  },
  {
   "cell_type": "code",
   "execution_count": 3,
   "metadata": {},
   "outputs": [
    {
     "name": "stdout",
     "output_type": "stream",
     "text": [
      "603 ns ± 59 ns per loop (mean ± std. dev. of 7 runs, 1,000,000 loops each)\n"
     ]
    }
   ],
   "source": [
    "# Tempo de execução\n",
    "%timeit soma1(10)"
   ]
  },
  {
   "cell_type": "code",
   "execution_count": 4,
   "metadata": {},
   "outputs": [],
   "source": [
    "# Função de soma\n",
    "# Números de passos seria 3\n",
    "# por ser uma soma de 3 números\n",
    "def soma2(n):\n",
    "    return (n * (n + 1)) / 2"
   ]
  },
  {
   "cell_type": "code",
   "execution_count": 5,
   "metadata": {},
   "outputs": [
    {
     "data": {
      "text/plain": [
       "55.0"
      ]
     },
     "execution_count": 5,
     "metadata": {},
     "output_type": "execute_result"
    }
   ],
   "source": [
    "# Testando a função\n",
    "soma2(10)"
   ]
  },
  {
   "cell_type": "code",
   "execution_count": 6,
   "metadata": {},
   "outputs": [
    {
     "name": "stdout",
     "output_type": "stream",
     "text": [
      "108 ns ± 2.73 ns per loop (mean ± std. dev. of 7 runs, 10,000,000 loops each)\n"
     ]
    }
   ],
   "source": [
    "# Tempo de execução\n",
    "%timeit soma2(10)"
   ]
  }
 ],
 "metadata": {
  "kernelspec": {
   "display_name": "venv",
   "language": "python",
   "name": "python3"
  },
  "language_info": {
   "codemirror_mode": {
    "name": "ipython",
    "version": 3
   },
   "file_extension": ".py",
   "mimetype": "text/x-python",
   "name": "python",
   "nbconvert_exporter": "python",
   "pygments_lexer": "ipython3",
   "version": "3.11.6"
  }
 },
 "nbformat": 4,
 "nbformat_minor": 2
}
