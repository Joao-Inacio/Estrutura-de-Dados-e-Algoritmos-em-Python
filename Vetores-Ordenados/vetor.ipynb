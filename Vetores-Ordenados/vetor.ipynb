{
 "cells": [
  {
   "cell_type": "markdown",
   "metadata": {},
   "source": [
    "# **Vetor Ordenado**"
   ]
  },
  {
   "cell_type": "code",
   "execution_count": 1,
   "metadata": {},
   "outputs": [],
   "source": [
    "# Libs\n",
    "import numpy as np"
   ]
  },
  {
   "cell_type": "code",
   "execution_count": 2,
   "metadata": {},
   "outputs": [],
   "source": [
    "# Classe de Vetor Ordenado\n",
    "class VetorOrdenado:\n",
    "    def __init__(self, capacidade):\n",
    "        self.capacidade = capacidade\n",
    "        self.ultima_posicao = -1\n",
    "        self.valores = np.empty(self.capacidade, dtype=int)\n",
    "\n",
    "    def imprime(self):\n",
    "        if self.ultima_posicao == -1:\n",
    "            print(\"O vetor está vazio\")\n",
    "        else:\n",
    "            for i in range(self.ultima_posicao + 1):\n",
    "                print(i, \" - \", self.valores[i])\n",
    "\n",
    "    def insere(self, valor): # O(n)\n",
    "        if self.ultima_posicao == self.capacidade - 1:\n",
    "            print('Capacidade máxima atingida')\n",
    "            return\n",
    "\n",
    "        posicao = 0\n",
    "        for i in range(self.ultima_posicao + 1):\n",
    "            posicao = i\n",
    "            if self.valores[i] > valor:\n",
    "                break\n",
    "            if i == self.ultima_posicao:\n",
    "                posicao = i + 1\n",
    "\n",
    "        x = self.ultima_posicao\n",
    "        while x >= posicao:\n",
    "            self.valores[x + 1] = self.valores[x]\n",
    "            x -= 1\n",
    "\n",
    "        self.valores[posicao] = valor\n",
    "        self.ultima_posicao += 1\n",
    "\n",
    "    def pesquisar(self, valor): # O(n)\n",
    "        for i in range(self.ultima_posicao + 1):\n",
    "            if self.valores[i] > valor:\n",
    "                return -1\n",
    "            if self.valores[i] == valor:\n",
    "                return i\n",
    "            if i == self.ultima_posicao:\n",
    "                return -1\n",
    "\n",
    "    def excluir(self, valor): # O(n)\n",
    "        posicao = self.pesquisar(valor)\n",
    "        if posicao == -1:\n",
    "            return -1\n",
    "        else:\n",
    "            for i in range(posicao, self.ultima_posicao):\n",
    "                self.valores[i] = self.valores[i + 1]\n",
    "            self.ultima_posicao -= 1"
   ]
  },
  {
   "cell_type": "code",
   "execution_count": 3,
   "metadata": {},
   "outputs": [
    {
     "name": "stdout",
     "output_type": "stream",
     "text": [
      "O vetor está vazio\n"
     ]
    }
   ],
   "source": [
    "# Criando o Vetor\n",
    "vetor = VetorOrdenado(10)\n",
    "vetor.imprime()"
   ]
  },
  {
   "cell_type": "code",
   "execution_count": 4,
   "metadata": {},
   "outputs": [
    {
     "name": "stdout",
     "output_type": "stream",
     "text": [
      "0  -  6\n"
     ]
    }
   ],
   "source": [
    "# Inserindo valor no vetor\n",
    "vetor.insere(6)\n",
    "vetor.imprime()"
   ]
  },
  {
   "cell_type": "code",
   "execution_count": 5,
   "metadata": {},
   "outputs": [
    {
     "name": "stdout",
     "output_type": "stream",
     "text": [
      "0  -  4\n",
      "1  -  6\n"
     ]
    }
   ],
   "source": [
    "# Inserindo valor no vetor\n",
    "vetor.insere(4)\n",
    "vetor.imprime()"
   ]
  },
  {
   "cell_type": "code",
   "execution_count": 6,
   "metadata": {},
   "outputs": [
    {
     "name": "stdout",
     "output_type": "stream",
     "text": [
      "0  -  3\n",
      "1  -  4\n",
      "2  -  6\n"
     ]
    }
   ],
   "source": [
    "# Inserindo valor no vetor\n",
    "vetor.insere(3)\n",
    "vetor.imprime()"
   ]
  },
  {
   "cell_type": "code",
   "execution_count": 7,
   "metadata": {},
   "outputs": [
    {
     "name": "stdout",
     "output_type": "stream",
     "text": [
      "0  -  3\n",
      "1  -  4\n",
      "2  -  5\n",
      "3  -  6\n"
     ]
    }
   ],
   "source": [
    "# Inserindo valor no vetor\n",
    "vetor.insere(5)\n",
    "vetor.imprime()"
   ]
  },
  {
   "cell_type": "code",
   "execution_count": 8,
   "metadata": {},
   "outputs": [
    {
     "name": "stdout",
     "output_type": "stream",
     "text": [
      "0  -  1\n",
      "1  -  3\n",
      "2  -  4\n",
      "3  -  5\n",
      "4  -  6\n"
     ]
    }
   ],
   "source": [
    "# Inserindo valor no vetor\n",
    "vetor.insere(1)\n",
    "vetor.imprime()"
   ]
  },
  {
   "cell_type": "code",
   "execution_count": 9,
   "metadata": {},
   "outputs": [
    {
     "name": "stdout",
     "output_type": "stream",
     "text": [
      "0  -  1\n",
      "1  -  3\n",
      "2  -  4\n",
      "3  -  5\n",
      "4  -  6\n",
      "5  -  8\n"
     ]
    }
   ],
   "source": [
    "# Inserindo valor no vetor\n",
    "vetor.insere(8)\n",
    "vetor.imprime()"
   ]
  },
  {
   "cell_type": "code",
   "execution_count": 10,
   "metadata": {},
   "outputs": [
    {
     "data": {
      "text/plain": [
       "3"
      ]
     },
     "execution_count": 10,
     "metadata": {},
     "output_type": "execute_result"
    }
   ],
   "source": [
    "# Testando a função de Pesquisar\n",
    "vetor.pesquisar(5)"
   ]
  },
  {
   "cell_type": "code",
   "execution_count": 11,
   "metadata": {},
   "outputs": [
    {
     "data": {
      "text/plain": [
       "5"
      ]
     },
     "execution_count": 11,
     "metadata": {},
     "output_type": "execute_result"
    }
   ],
   "source": [
    "# Testando a função de Pesquisar\n",
    "vetor.pesquisar(8)"
   ]
  },
  {
   "cell_type": "code",
   "execution_count": 12,
   "metadata": {},
   "outputs": [
    {
     "data": {
      "text/plain": [
       "-1"
      ]
     },
     "execution_count": 12,
     "metadata": {},
     "output_type": "execute_result"
    }
   ],
   "source": [
    "# Testando a função de Pesquisar\n",
    "vetor.pesquisar(2)"
   ]
  },
  {
   "cell_type": "code",
   "execution_count": 13,
   "metadata": {},
   "outputs": [
    {
     "data": {
      "text/plain": [
       "-1"
      ]
     },
     "execution_count": 13,
     "metadata": {},
     "output_type": "execute_result"
    }
   ],
   "source": [
    "# Testando a função de Pesquisar\n",
    "vetor.pesquisar(9)"
   ]
  },
  {
   "cell_type": "code",
   "execution_count": 14,
   "metadata": {},
   "outputs": [
    {
     "name": "stdout",
     "output_type": "stream",
     "text": [
      "0  -  1\n",
      "1  -  3\n",
      "2  -  4\n",
      "3  -  5\n",
      "4  -  6\n",
      "5  -  8\n"
     ]
    }
   ],
   "source": [
    "# Imprimindo o vetor\n",
    "vetor.imprime()"
   ]
  },
  {
   "cell_type": "code",
   "execution_count": 15,
   "metadata": {},
   "outputs": [
    {
     "name": "stdout",
     "output_type": "stream",
     "text": [
      "0  -  1\n",
      "1  -  3\n",
      "2  -  4\n",
      "3  -  6\n",
      "4  -  8\n"
     ]
    }
   ],
   "source": [
    "# Testando a função de Exclusão\n",
    "vetor.excluir(5)\n",
    "vetor.imprime()"
   ]
  },
  {
   "cell_type": "code",
   "execution_count": 16,
   "metadata": {},
   "outputs": [
    {
     "name": "stdout",
     "output_type": "stream",
     "text": [
      "0  -  3\n",
      "1  -  4\n",
      "2  -  6\n",
      "3  -  8\n"
     ]
    }
   ],
   "source": [
    "# Testando a função de Exclusão\n",
    "vetor.excluir(1)\n",
    "vetor.imprime()"
   ]
  },
  {
   "cell_type": "code",
   "execution_count": 17,
   "metadata": {},
   "outputs": [
    {
     "name": "stdout",
     "output_type": "stream",
     "text": [
      "0  -  3\n",
      "1  -  4\n",
      "2  -  6\n"
     ]
    }
   ],
   "source": [
    "# Testando a função de Exclusão\n",
    "vetor.excluir(8)\n",
    "vetor.imprime()"
   ]
  },
  {
   "cell_type": "code",
   "execution_count": 18,
   "metadata": {},
   "outputs": [
    {
     "data": {
      "text/plain": [
       "-1"
      ]
     },
     "execution_count": 18,
     "metadata": {},
     "output_type": "execute_result"
    }
   ],
   "source": [
    "# Testando a função de Exclusão\n",
    "vetor.excluir(9)"
   ]
  }
 ],
 "metadata": {
  "kernelspec": {
   "display_name": "venv",
   "language": "python",
   "name": "python3"
  },
  "language_info": {
   "codemirror_mode": {
    "name": "ipython",
    "version": 3
   },
   "file_extension": ".py",
   "mimetype": "text/x-python",
   "name": "python",
   "nbconvert_exporter": "python",
   "pygments_lexer": "ipython3",
   "version": "3.11.6"
  }
 },
 "nbformat": 4,
 "nbformat_minor": 2
}
