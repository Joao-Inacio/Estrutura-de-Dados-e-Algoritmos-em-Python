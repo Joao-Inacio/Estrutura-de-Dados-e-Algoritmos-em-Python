{
 "cells": [
  {
   "cell_type": "markdown",
   "metadata": {},
   "source": [
    "# **Comparativo de Vetores Ordenados e Não Ordenados**"
   ]
  },
  {
   "cell_type": "code",
   "execution_count": 1,
   "metadata": {},
   "outputs": [],
   "source": [
    "#Libs\n",
    "import random\n",
    "import numpy as np"
   ]
  },
  {
   "cell_type": "markdown",
   "metadata": {},
   "source": [
    "## Vetor Não Ordenados"
   ]
  },
  {
   "cell_type": "code",
   "execution_count": 2,
   "metadata": {},
   "outputs": [],
   "source": [
    "# Classe para a Criação do vetor não ordenado\n",
    "class VetorNaoOrdenado:\n",
    "    def __init__(self, capacidade):\n",
    "        self.capacidade = capacidade\n",
    "        self.ultima_posicao = -1\n",
    "        self.valores = np.empty(self.capacidade, dtype=float)\n",
    "\n",
    "    def imprime(self): # O(n)\n",
    "        if self.ultima_posicao == -1:\n",
    "            print(\"O vetor está vazio\")\n",
    "        else:\n",
    "            for i in range(self.ultima_posicao + 1):\n",
    "                print(i, \" - \", self.valores[i])\n",
    "\n",
    "    def insere(self, valor): # O(1) - O(2)\n",
    "        if self.ultima_posicao == self.capacidade - 1:\n",
    "            print(\"Capacidade máxima atingida\")\n",
    "        else:\n",
    "            self.ultima_posicao += 1\n",
    "            self.valores[self.ultima_posicao] = valor\n",
    "\n",
    "    def pesquisar(self, valor): # O(n)\n",
    "        for i in range(self.ultima_posicao + 1):\n",
    "            if valor == self.valores[i]:\n",
    "                return i\n",
    "        return -1\n",
    "\n",
    "    def excluir(self, valor): # O(n)\n",
    "        posicao = self.pesquisar(valor)\n",
    "        if posicao == -1:\n",
    "            return -1\n",
    "        else:\n",
    "            for i in range(posicao, self.ultima_posicao):\n",
    "                self.valores[i] = self.valores[i + 1]\n",
    "            self.ultima_posicao -= 1"
   ]
  },
  {
   "cell_type": "markdown",
   "metadata": {},
   "source": [
    "## Vetor Ordenado"
   ]
  },
  {
   "cell_type": "code",
   "execution_count": 3,
   "metadata": {},
   "outputs": [],
   "source": [
    "# Classe de Vetor Ordenado\n",
    "class VetorOrdenado:\n",
    "    def __init__(self, capacidade):\n",
    "        self.capacidade = capacidade\n",
    "        self.ultima_posicao = -1\n",
    "        self.valores = np.empty(self.capacidade, dtype=float)\n",
    "\n",
    "    def imprime(self):\n",
    "        if self.ultima_posicao == -1:\n",
    "            print(\"O vetor está vazio\")\n",
    "        else:\n",
    "            for i in range(self.ultima_posicao + 1):\n",
    "                print(i, \" - \", self.valores[i])\n",
    "\n",
    "    def insere(self, valor): # O(n)\n",
    "        if self.ultima_posicao == self.capacidade - 1:\n",
    "            print('Capacidade máxima atingida')\n",
    "            return\n",
    "\n",
    "        posicao = 0\n",
    "        for i in range(self.ultima_posicao + 1):\n",
    "            posicao = i\n",
    "            if self.valores[i] > valor:\n",
    "                break\n",
    "            if i == self.ultima_posicao:\n",
    "                posicao = i + 1\n",
    "\n",
    "        x = self.ultima_posicao\n",
    "        while x >= posicao:\n",
    "            self.valores[x + 1] = self.valores[x]\n",
    "            x -= 1\n",
    "\n",
    "        self.valores[posicao] = valor\n",
    "        self.ultima_posicao += 1\n",
    "\n",
    "    def pesquisar(self, valor): # O(n)\n",
    "        for i in range(self.ultima_posicao + 1):\n",
    "            if self.valores[i] > valor:\n",
    "                return -1\n",
    "            if self.valores[i] == valor:\n",
    "                return i\n",
    "            if i == self.ultima_posicao:\n",
    "                return -1\n",
    "\n",
    "    def pesquisa_binaria(self, valor): # O(log n)\n",
    "        limite_inferiro = 0\n",
    "        liminte_superior = self.ultima_posicao\n",
    "\n",
    "        while True:\n",
    "            posicao_atual = int((limite_inferiro + liminte_superior) / 2)\n",
    "            if self.valores[posicao_atual] == valor:\n",
    "                return posicao_atual\n",
    "            elif limite_inferiro > liminte_superior:\n",
    "                return -1\n",
    "            else:\n",
    "                if self.valores[posicao_atual] < valor:\n",
    "                    limite_inferiro = posicao_atual + 1\n",
    "                else:\n",
    "                    liminte_superior = posicao_atual - 1\n",
    "\n",
    "    def excluir(self, valor): # O(n)\n",
    "        posicao = self.pesquisar(valor)\n",
    "        if posicao == -1:\n",
    "            return -1\n",
    "        else:\n",
    "            for i in range(posicao, self.ultima_posicao):\n",
    "                self.valores[i] = self.valores[i + 1]\n",
    "            self.ultima_posicao -= 1"
   ]
  },
  {
   "cell_type": "markdown",
   "metadata": {},
   "source": [
    "## Inserção"
   ]
  },
  {
   "cell_type": "code",
   "execution_count": 4,
   "metadata": {},
   "outputs": [
    {
     "data": {
      "text/plain": [
       "10000"
      ]
     },
     "execution_count": 4,
     "metadata": {},
     "output_type": "execute_result"
    }
   ],
   "source": [
    "# Inserindo valores em uma lista\n",
    "elementos = []\n",
    "for _ in range(10000):\n",
    "    elementos.append(round(random.random(), 4))\n",
    "\n",
    "# Tamanho\n",
    "len(elementos)"
   ]
  },
  {
   "cell_type": "code",
   "execution_count": 5,
   "metadata": {},
   "outputs": [],
   "source": [
    "# Criando a função que insere valores no vetor não ordenado\n",
    "def insere_nao_ordenado(lista):\n",
    "    vetor = VetorNaoOrdenado(len(lista))\n",
    "    for i in lista:\n",
    "        vetor.insere(i)\n",
    "    return vetor"
   ]
  },
  {
   "cell_type": "code",
   "execution_count": 6,
   "metadata": {},
   "outputs": [
    {
     "name": "stdout",
     "output_type": "stream",
     "text": [
      "2.41 ms ± 68.4 µs per loop (mean ± std. dev. of 7 runs, 100 loops each)\n"
     ]
    }
   ],
   "source": [
    "# Tempo de execução \n",
    "%timeit insere_nao_ordenado(elementos)"
   ]
  },
  {
   "cell_type": "code",
   "execution_count": 7,
   "metadata": {},
   "outputs": [],
   "source": [
    "# Criando a função que insere valores no vetor ordenado\n",
    "def insere_ordenado(lista):\n",
    "    vetor = VetorOrdenado(len(lista))\n",
    "    for i in lista:\n",
    "        vetor.insere(i)\n",
    "    return vetor"
   ]
  },
  {
   "cell_type": "code",
   "execution_count": 8,
   "metadata": {},
   "outputs": [
    {
     "name": "stdout",
     "output_type": "stream",
     "text": [
      "10.1 s ± 684 ms per loop (mean ± std. dev. of 7 runs, 1 loop each)\n"
     ]
    }
   ],
   "source": [
    "# Tempo de execução \n",
    "%timeit insere_ordenado(elementos)"
   ]
  },
  {
   "cell_type": "markdown",
   "metadata": {},
   "source": [
    "## Pesquisa"
   ]
  },
  {
   "cell_type": "code",
   "execution_count": 9,
   "metadata": {},
   "outputs": [],
   "source": [
    "# Criando o vetor não Ordenados\n",
    "vetor_nao_ordenado = insere_nao_ordenado(elementos)"
   ]
  },
  {
   "cell_type": "code",
   "execution_count": 10,
   "metadata": {},
   "outputs": [
    {
     "data": {
      "text/plain": [
       "10000"
      ]
     },
     "execution_count": 10,
     "metadata": {},
     "output_type": "execute_result"
    }
   ],
   "source": [
    "# Tamanho do vetor\n",
    "len(vetor_nao_ordenado.valores)"
   ]
  },
  {
   "cell_type": "code",
   "execution_count": 11,
   "metadata": {},
   "outputs": [
    {
     "data": {
      "text/plain": [
       "10000"
      ]
     },
     "execution_count": 11,
     "metadata": {},
     "output_type": "execute_result"
    }
   ],
   "source": [
    "# Criando o vetor Ordenados\n",
    "vetor_ordenado = insere_ordenado(elementos)\n",
    "# Tamanho do vetor\n",
    "len(vetor_ordenado.valores)"
   ]
  },
  {
   "cell_type": "code",
   "execution_count": 12,
   "metadata": {},
   "outputs": [
    {
     "data": {
      "text/plain": [
       "10000"
      ]
     },
     "execution_count": 12,
     "metadata": {},
     "output_type": "execute_result"
    }
   ],
   "source": [
    "# Inserindo valores de pesquisa em uma lista\n",
    "pesquisa = []\n",
    "for _ in range(10000):\n",
    "    pesquisa.append(round(random.random(), 4))\n",
    "\n",
    "# Tamanho\n",
    "len(pesquisa)"
   ]
  },
  {
   "cell_type": "code",
   "execution_count": 13,
   "metadata": {},
   "outputs": [],
   "source": [
    "# Função de pesquisa\n",
    "def pesquisa_nao_ordenado(lista):\n",
    "    for i in lista:\n",
    "        vetor_nao_ordenado.pesquisar(i)"
   ]
  },
  {
   "cell_type": "code",
   "execution_count": 14,
   "metadata": {},
   "outputs": [
    {
     "name": "stdout",
     "output_type": "stream",
     "text": [
      "8.62 s ± 384 ms per loop (mean ± std. dev. of 7 runs, 1 loop each)\n"
     ]
    }
   ],
   "source": [
    "# Tempo de execução \n",
    "%timeit pesquisa_nao_ordenado(pesquisa)"
   ]
  },
  {
   "cell_type": "code",
   "execution_count": 15,
   "metadata": {},
   "outputs": [],
   "source": [
    "# Função de pesquisa\n",
    "def pesquisa_ordenado_binaria(lista):\n",
    "    for i in lista:\n",
    "        vetor_ordenado.pesquisa_binaria(i)"
   ]
  },
  {
   "cell_type": "code",
   "execution_count": 16,
   "metadata": {},
   "outputs": [
    {
     "name": "stdout",
     "output_type": "stream",
     "text": [
      "58.6 ms ± 3.62 ms per loop (mean ± std. dev. of 7 runs, 10 loops each)\n"
     ]
    }
   ],
   "source": [
    "# Tempo de execução \n",
    "%timeit pesquisa_ordenado_binaria(pesquisa)"
   ]
  }
 ],
 "metadata": {
  "kernelspec": {
   "display_name": "venv",
   "language": "python",
   "name": "python3"
  },
  "language_info": {
   "codemirror_mode": {
    "name": "ipython",
    "version": 3
   },
   "file_extension": ".py",
   "mimetype": "text/x-python",
   "name": "python",
   "nbconvert_exporter": "python",
   "pygments_lexer": "ipython3",
   "version": "3.11.6"
  }
 },
 "nbformat": 4,
 "nbformat_minor": 2
}
